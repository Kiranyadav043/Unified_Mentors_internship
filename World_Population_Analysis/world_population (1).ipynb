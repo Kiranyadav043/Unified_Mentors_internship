{
 "cells": [
  {
   "cell_type": "code",
   "execution_count": 1,
   "id": "73b412ca-92e1-4d36-aec8-12ada780ecf3",
   "metadata": {},
   "outputs": [],
   "source": [
    "import numpy as np\n",
    "import pandas as pd\n",
    "import matplotlib.pyplot as plt\n",
    "import seaborn as sns\n",
    "import warnings\n",
    "import sklearn\n",
    "from sklearn.preprocessing import OneHotEncoder,RobustScaler,StandardScaler\n",
    "from sklearn.model_selection import train_test_split\n",
    "from sklearn.metrics import r2_score,mean_squared_error\n",
    "from sklearn.linear_model import LinearRegression\n",
    "from sklearn.compose import ColumnTransformer\n",
    "from sklearn.pipeline import Pipeline\n",
    "warnings.filterwarnings('ignore')"
   ]
  },
  {
   "cell_type": "markdown",
   "id": "ba4f3c3c-9ed3-4af9-b68b-0a637a34b716",
   "metadata": {},
   "source": [
    "## Problem Statement"
   ]
  },
  {
   "cell_type": "markdown",
   "id": "463a8d12-2da9-4d1b-b3c3-f15a15b86077",
   "metadata": {},
   "source": [
    "The goal of this project is to analyze global population trends using historical data and\n",
    " predict future population growth. This involves using machine learning techniques to\n",
    "explore demographic data, identify key factors influencing population changes, and build\n",
    " predictive models."
   ]
  },
  {
   "cell_type": "markdown",
   "id": "727817c7-9934-4e11-8442-0d4dfab42073",
   "metadata": {},
   "source": [
    "## loading dataset"
   ]
  },
  {
   "cell_type": "code",
   "execution_count": 2,
   "id": "98f43ba8-70bf-48d0-8fef-d27deeacfb41",
   "metadata": {},
   "outputs": [],
   "source": [
    "data = pd.read_csv(r\"D:\\unified mentor internship\\world_population.csv\")"
   ]
  },
  {
   "cell_type": "code",
   "execution_count": 3,
   "id": "b17d5585-256a-4a95-a9c0-f9fea85320ca",
   "metadata": {
    "scrolled": true
   },
   "outputs": [
    {
     "data": {
      "text/html": [
       "<div>\n",
       "<style scoped>\n",
       "    .dataframe tbody tr th:only-of-type {\n",
       "        vertical-align: middle;\n",
       "    }\n",
       "\n",
       "    .dataframe tbody tr th {\n",
       "        vertical-align: top;\n",
       "    }\n",
       "\n",
       "    .dataframe thead th {\n",
       "        text-align: right;\n",
       "    }\n",
       "</style>\n",
       "<table border=\"1\" class=\"dataframe\">\n",
       "  <thead>\n",
       "    <tr style=\"text-align: right;\">\n",
       "      <th></th>\n",
       "      <th>Rank</th>\n",
       "      <th>CCA3</th>\n",
       "      <th>Country/Territory</th>\n",
       "      <th>Capital</th>\n",
       "      <th>Continent</th>\n",
       "      <th>2022 Population</th>\n",
       "      <th>2020 Population</th>\n",
       "      <th>2015 Population</th>\n",
       "      <th>2010 Population</th>\n",
       "      <th>2000 Population</th>\n",
       "      <th>1990 Population</th>\n",
       "      <th>1980 Population</th>\n",
       "      <th>1970 Population</th>\n",
       "      <th>Area (km²)</th>\n",
       "      <th>Density (per km²)</th>\n",
       "      <th>Growth Rate</th>\n",
       "      <th>World Population Percentage</th>\n",
       "    </tr>\n",
       "  </thead>\n",
       "  <tbody>\n",
       "    <tr>\n",
       "      <th>0</th>\n",
       "      <td>36</td>\n",
       "      <td>AFG</td>\n",
       "      <td>Afghanistan</td>\n",
       "      <td>Kabul</td>\n",
       "      <td>Asia</td>\n",
       "      <td>41128771</td>\n",
       "      <td>38972230</td>\n",
       "      <td>33753499</td>\n",
       "      <td>28189672</td>\n",
       "      <td>19542982</td>\n",
       "      <td>10694796</td>\n",
       "      <td>12486631</td>\n",
       "      <td>10752971</td>\n",
       "      <td>652230</td>\n",
       "      <td>63.0587</td>\n",
       "      <td>1.0257</td>\n",
       "      <td>0.52</td>\n",
       "    </tr>\n",
       "    <tr>\n",
       "      <th>1</th>\n",
       "      <td>138</td>\n",
       "      <td>ALB</td>\n",
       "      <td>Albania</td>\n",
       "      <td>Tirana</td>\n",
       "      <td>Europe</td>\n",
       "      <td>2842321</td>\n",
       "      <td>2866849</td>\n",
       "      <td>2882481</td>\n",
       "      <td>2913399</td>\n",
       "      <td>3182021</td>\n",
       "      <td>3295066</td>\n",
       "      <td>2941651</td>\n",
       "      <td>2324731</td>\n",
       "      <td>28748</td>\n",
       "      <td>98.8702</td>\n",
       "      <td>0.9957</td>\n",
       "      <td>0.04</td>\n",
       "    </tr>\n",
       "    <tr>\n",
       "      <th>2</th>\n",
       "      <td>34</td>\n",
       "      <td>DZA</td>\n",
       "      <td>Algeria</td>\n",
       "      <td>Algiers</td>\n",
       "      <td>Africa</td>\n",
       "      <td>44903225</td>\n",
       "      <td>43451666</td>\n",
       "      <td>39543154</td>\n",
       "      <td>35856344</td>\n",
       "      <td>30774621</td>\n",
       "      <td>25518074</td>\n",
       "      <td>18739378</td>\n",
       "      <td>13795915</td>\n",
       "      <td>2381741</td>\n",
       "      <td>18.8531</td>\n",
       "      <td>1.0164</td>\n",
       "      <td>0.56</td>\n",
       "    </tr>\n",
       "    <tr>\n",
       "      <th>3</th>\n",
       "      <td>213</td>\n",
       "      <td>ASM</td>\n",
       "      <td>American Samoa</td>\n",
       "      <td>Pago Pago</td>\n",
       "      <td>Oceania</td>\n",
       "      <td>44273</td>\n",
       "      <td>46189</td>\n",
       "      <td>51368</td>\n",
       "      <td>54849</td>\n",
       "      <td>58230</td>\n",
       "      <td>47818</td>\n",
       "      <td>32886</td>\n",
       "      <td>27075</td>\n",
       "      <td>199</td>\n",
       "      <td>222.4774</td>\n",
       "      <td>0.9831</td>\n",
       "      <td>0.00</td>\n",
       "    </tr>\n",
       "    <tr>\n",
       "      <th>4</th>\n",
       "      <td>203</td>\n",
       "      <td>AND</td>\n",
       "      <td>Andorra</td>\n",
       "      <td>Andorra la Vella</td>\n",
       "      <td>Europe</td>\n",
       "      <td>79824</td>\n",
       "      <td>77700</td>\n",
       "      <td>71746</td>\n",
       "      <td>71519</td>\n",
       "      <td>66097</td>\n",
       "      <td>53569</td>\n",
       "      <td>35611</td>\n",
       "      <td>19860</td>\n",
       "      <td>468</td>\n",
       "      <td>170.5641</td>\n",
       "      <td>1.0100</td>\n",
       "      <td>0.00</td>\n",
       "    </tr>\n",
       "  </tbody>\n",
       "</table>\n",
       "</div>"
      ],
      "text/plain": [
       "   Rank CCA3 Country/Territory           Capital Continent  2022 Population  \\\n",
       "0    36  AFG       Afghanistan             Kabul      Asia         41128771   \n",
       "1   138  ALB           Albania            Tirana    Europe          2842321   \n",
       "2    34  DZA           Algeria           Algiers    Africa         44903225   \n",
       "3   213  ASM    American Samoa         Pago Pago   Oceania            44273   \n",
       "4   203  AND           Andorra  Andorra la Vella    Europe            79824   \n",
       "\n",
       "   2020 Population  2015 Population  2010 Population  2000 Population  \\\n",
       "0         38972230         33753499         28189672         19542982   \n",
       "1          2866849          2882481          2913399          3182021   \n",
       "2         43451666         39543154         35856344         30774621   \n",
       "3            46189            51368            54849            58230   \n",
       "4            77700            71746            71519            66097   \n",
       "\n",
       "   1990 Population  1980 Population  1970 Population  Area (km²)  \\\n",
       "0         10694796         12486631         10752971      652230   \n",
       "1          3295066          2941651          2324731       28748   \n",
       "2         25518074         18739378         13795915     2381741   \n",
       "3            47818            32886            27075         199   \n",
       "4            53569            35611            19860         468   \n",
       "\n",
       "   Density (per km²)  Growth Rate  World Population Percentage  \n",
       "0            63.0587       1.0257                         0.52  \n",
       "1            98.8702       0.9957                         0.04  \n",
       "2            18.8531       1.0164                         0.56  \n",
       "3           222.4774       0.9831                         0.00  \n",
       "4           170.5641       1.0100                         0.00  "
      ]
     },
     "execution_count": 3,
     "metadata": {},
     "output_type": "execute_result"
    }
   ],
   "source": [
    "data.head()"
   ]
  },
  {
   "cell_type": "markdown",
   "id": "ec33aaa6-59a8-4296-a264-df5d50d17285",
   "metadata": {},
   "source": [
    "## Dataset Glossary (Column-Wise)\n",
    "\n",
    " ● Rank:RankbyPopulation.\n",
    " \n",
    " ● CCA3:3Digit Country/Territories Code.\n",
    " \n",
    " ● Country/Territories: Name of the Country/Territories.\n",
    " \n",
    " ● Capital: Name of the Capital.\n",
    " \n",
    " ● Continent: Name of the Continent.\n",
    " \n",
    " ● 2022Population: Population of the Country/Territories in the year 2022.\n",
    " \n",
    " ● 2020Population: Population of the Country/Territories in the year 2020.\n",
    " \n",
    " ● 2015Population: Population of the Country/Territories in the year 2015.\n",
    " \n",
    " ● 2010Population: Population of the Country/Territories in the year 2010.\n",
    " \n",
    " ● 2000Population: Population of the Country/Territories in the year 2000.\n",
    " \n",
    " ● 1990Population: Population of the Country/Territories in the year 1990.\n",
    " \n",
    " ● 1980Population: Population of the Country/Territories in the year 1980.\n",
    " \n",
    " ● 1970Population: Population of the Country/Territories in the year 1970.\n",
    " \n",
    " ● Area(km²): Area size of the Country/Territories in square kilometer.\n",
    "\n",
    " ● Density (per km²): Population Density per square kilometer.\n",
    "\n",
    " ● GrowthRate: Population Growth Rate by Country/Territories.\n",
    " \n",
    " ● WorldPopulation Percentage: The population percentage by each Country/Territories"
   ]
  },
  {
   "cell_type": "code",
   "execution_count": 4,
   "id": "27977637-a40b-4383-846f-4a608b65e2dd",
   "metadata": {},
   "outputs": [
    {
     "name": "stdout",
     "output_type": "stream",
     "text": [
      "<class 'pandas.core.frame.DataFrame'>\n",
      "RangeIndex: 234 entries, 0 to 233\n",
      "Data columns (total 17 columns):\n",
      " #   Column                       Non-Null Count  Dtype  \n",
      "---  ------                       --------------  -----  \n",
      " 0   Rank                         234 non-null    int64  \n",
      " 1   CCA3                         234 non-null    object \n",
      " 2   Country/Territory            234 non-null    object \n",
      " 3   Capital                      234 non-null    object \n",
      " 4   Continent                    234 non-null    object \n",
      " 5   2022 Population              234 non-null    int64  \n",
      " 6   2020 Population              234 non-null    int64  \n",
      " 7   2015 Population              234 non-null    int64  \n",
      " 8   2010 Population              234 non-null    int64  \n",
      " 9   2000 Population              234 non-null    int64  \n",
      " 10  1990 Population              234 non-null    int64  \n",
      " 11  1980 Population              234 non-null    int64  \n",
      " 12  1970 Population              234 non-null    int64  \n",
      " 13  Area (km²)                   234 non-null    int64  \n",
      " 14  Density (per km²)            234 non-null    float64\n",
      " 15  Growth Rate                  234 non-null    float64\n",
      " 16  World Population Percentage  234 non-null    float64\n",
      "dtypes: float64(3), int64(10), object(4)\n",
      "memory usage: 31.2+ KB\n"
     ]
    }
   ],
   "source": [
    "data.info()"
   ]
  },
  {
   "cell_type": "markdown",
   "id": "76384b83-6745-4593-a3da-ab7e5aac88b0",
   "metadata": {},
   "source": [
    "## Simple EDA"
   ]
  },
  {
   "cell_type": "code",
   "execution_count": 5,
   "id": "20497bba-473f-497f-b07e-55c490fcb5d1",
   "metadata": {},
   "outputs": [
    {
     "data": {
      "text/plain": [
       "Rank                           0\n",
       "CCA3                           0\n",
       "Country/Territory              0\n",
       "Capital                        0\n",
       "Continent                      0\n",
       "2022 Population                0\n",
       "2020 Population                0\n",
       "2015 Population                0\n",
       "2010 Population                0\n",
       "2000 Population                0\n",
       "1990 Population                0\n",
       "1980 Population                0\n",
       "1970 Population                0\n",
       "Area (km²)                     0\n",
       "Density (per km²)              0\n",
       "Growth Rate                    0\n",
       "World Population Percentage    0\n",
       "dtype: int64"
      ]
     },
     "execution_count": 5,
     "metadata": {},
     "output_type": "execute_result"
    }
   ],
   "source": [
    "data.isna().sum()"
   ]
  },
  {
   "cell_type": "markdown",
   "id": "779a56ab-ac56-4679-80ba-091a4db7881e",
   "metadata": {},
   "source": [
    "There is no missing values in the dataset."
   ]
  },
  {
   "cell_type": "code",
   "execution_count": 6,
   "id": "d0a42c73-f177-4836-a75d-e3d83df11f84",
   "metadata": {},
   "outputs": [
    {
     "data": {
      "text/plain": [
       "0"
      ]
     },
     "execution_count": 6,
     "metadata": {},
     "output_type": "execute_result"
    }
   ],
   "source": [
    "data.duplicated().sum()"
   ]
  },
  {
   "cell_type": "markdown",
   "id": "6890fa5c-85f0-446f-bf7e-ab68dc943cf8",
   "metadata": {},
   "source": [
    "There is no duplicates."
   ]
  },
  {
   "cell_type": "code",
   "execution_count": 7,
   "id": "1f6fc9a2-2ecd-4881-b65e-16c073cf8f67",
   "metadata": {},
   "outputs": [
    {
     "data": {
      "text/plain": [
       "Rank                             int64\n",
       "CCA3                            object\n",
       "Country/Territory               object\n",
       "Capital                         object\n",
       "Continent                       object\n",
       "2022 Population                  int64\n",
       "2020 Population                  int64\n",
       "2015 Population                  int64\n",
       "2010 Population                  int64\n",
       "2000 Population                  int64\n",
       "1990 Population                  int64\n",
       "1980 Population                  int64\n",
       "1970 Population                  int64\n",
       "Area (km²)                       int64\n",
       "Density (per km²)              float64\n",
       "Growth Rate                    float64\n",
       "World Population Percentage    float64\n",
       "dtype: object"
      ]
     },
     "execution_count": 7,
     "metadata": {},
     "output_type": "execute_result"
    }
   ],
   "source": [
    "data.dtypes"
   ]
  },
  {
   "cell_type": "markdown",
   "id": "710564c6-5a4a-4694-8f04-3abf30d4e3e2",
   "metadata": {},
   "source": [
    "All datatypes are perfectly suitable."
   ]
  },
  {
   "cell_type": "code",
   "execution_count": 8,
   "id": "7b26370b-1bbe-4174-b053-1ebf22b0c1d0",
   "metadata": {},
   "outputs": [
    {
     "data": {
      "text/html": [
       "<style type=\"text/css\">\n",
       "</style>\n",
       "<table id=\"T_aefe0\">\n",
       "  <thead>\n",
       "    <tr>\n",
       "      <th class=\"blank level0\" >&nbsp;</th>\n",
       "      <th id=\"T_aefe0_level0_col0\" class=\"col_heading level0 col0\" >count</th>\n",
       "      <th id=\"T_aefe0_level0_col1\" class=\"col_heading level0 col1\" >mean</th>\n",
       "      <th id=\"T_aefe0_level0_col2\" class=\"col_heading level0 col2\" >std</th>\n",
       "      <th id=\"T_aefe0_level0_col3\" class=\"col_heading level0 col3\" >min</th>\n",
       "      <th id=\"T_aefe0_level0_col4\" class=\"col_heading level0 col4\" >25%</th>\n",
       "      <th id=\"T_aefe0_level0_col5\" class=\"col_heading level0 col5\" >50%</th>\n",
       "      <th id=\"T_aefe0_level0_col6\" class=\"col_heading level0 col6\" >75%</th>\n",
       "      <th id=\"T_aefe0_level0_col7\" class=\"col_heading level0 col7\" >max</th>\n",
       "    </tr>\n",
       "  </thead>\n",
       "  <tbody>\n",
       "    <tr>\n",
       "      <th id=\"T_aefe0_level0_row0\" class=\"row_heading level0 row0\" >Rank</th>\n",
       "      <td id=\"T_aefe0_row0_col0\" class=\"data row0 col0\" >234.00</td>\n",
       "      <td id=\"T_aefe0_row0_col1\" class=\"data row0 col1\" >117.50</td>\n",
       "      <td id=\"T_aefe0_row0_col2\" class=\"data row0 col2\" >67.69</td>\n",
       "      <td id=\"T_aefe0_row0_col3\" class=\"data row0 col3\" >1.00</td>\n",
       "      <td id=\"T_aefe0_row0_col4\" class=\"data row0 col4\" >59.25</td>\n",
       "      <td id=\"T_aefe0_row0_col5\" class=\"data row0 col5\" >117.50</td>\n",
       "      <td id=\"T_aefe0_row0_col6\" class=\"data row0 col6\" >175.75</td>\n",
       "      <td id=\"T_aefe0_row0_col7\" class=\"data row0 col7\" >234.00</td>\n",
       "    </tr>\n",
       "    <tr>\n",
       "      <th id=\"T_aefe0_level0_row1\" class=\"row_heading level0 row1\" >2022 Population</th>\n",
       "      <td id=\"T_aefe0_row1_col0\" class=\"data row1 col0\" >234.00</td>\n",
       "      <td id=\"T_aefe0_row1_col1\" class=\"data row1 col1\" >34074414.71</td>\n",
       "      <td id=\"T_aefe0_row1_col2\" class=\"data row1 col2\" >136766424.80</td>\n",
       "      <td id=\"T_aefe0_row1_col3\" class=\"data row1 col3\" >510.00</td>\n",
       "      <td id=\"T_aefe0_row1_col4\" class=\"data row1 col4\" >419738.50</td>\n",
       "      <td id=\"T_aefe0_row1_col5\" class=\"data row1 col5\" >5559944.50</td>\n",
       "      <td id=\"T_aefe0_row1_col6\" class=\"data row1 col6\" >22476504.75</td>\n",
       "      <td id=\"T_aefe0_row1_col7\" class=\"data row1 col7\" >1425887337.00</td>\n",
       "    </tr>\n",
       "    <tr>\n",
       "      <th id=\"T_aefe0_level0_row2\" class=\"row_heading level0 row2\" >2020 Population</th>\n",
       "      <td id=\"T_aefe0_row2_col0\" class=\"data row2 col0\" >234.00</td>\n",
       "      <td id=\"T_aefe0_row2_col1\" class=\"data row2 col1\" >33501070.95</td>\n",
       "      <td id=\"T_aefe0_row2_col2\" class=\"data row2 col2\" >135589876.92</td>\n",
       "      <td id=\"T_aefe0_row2_col3\" class=\"data row2 col3\" >520.00</td>\n",
       "      <td id=\"T_aefe0_row2_col4\" class=\"data row2 col4\" >415284.50</td>\n",
       "      <td id=\"T_aefe0_row2_col5\" class=\"data row2 col5\" >5493074.50</td>\n",
       "      <td id=\"T_aefe0_row2_col6\" class=\"data row2 col6\" >21447979.50</td>\n",
       "      <td id=\"T_aefe0_row2_col7\" class=\"data row2 col7\" >1424929781.00</td>\n",
       "    </tr>\n",
       "    <tr>\n",
       "      <th id=\"T_aefe0_level0_row3\" class=\"row_heading level0 row3\" >2015 Population</th>\n",
       "      <td id=\"T_aefe0_row3_col0\" class=\"data row3 col0\" >234.00</td>\n",
       "      <td id=\"T_aefe0_row3_col1\" class=\"data row3 col1\" >31729956.24</td>\n",
       "      <td id=\"T_aefe0_row3_col2\" class=\"data row3 col2\" >130404992.75</td>\n",
       "      <td id=\"T_aefe0_row3_col3\" class=\"data row3 col3\" >564.00</td>\n",
       "      <td id=\"T_aefe0_row3_col4\" class=\"data row3 col4\" >404676.00</td>\n",
       "      <td id=\"T_aefe0_row3_col5\" class=\"data row3 col5\" >5307400.00</td>\n",
       "      <td id=\"T_aefe0_row3_col6\" class=\"data row3 col6\" >19730853.75</td>\n",
       "      <td id=\"T_aefe0_row3_col7\" class=\"data row3 col7\" >1393715448.00</td>\n",
       "    </tr>\n",
       "    <tr>\n",
       "      <th id=\"T_aefe0_level0_row4\" class=\"row_heading level0 row4\" >2010 Population</th>\n",
       "      <td id=\"T_aefe0_row4_col0\" class=\"data row4 col0\" >234.00</td>\n",
       "      <td id=\"T_aefe0_row4_col1\" class=\"data row4 col1\" >29845235.03</td>\n",
       "      <td id=\"T_aefe0_row4_col2\" class=\"data row4 col2\" >124218487.63</td>\n",
       "      <td id=\"T_aefe0_row4_col3\" class=\"data row4 col3\" >596.00</td>\n",
       "      <td id=\"T_aefe0_row4_col4\" class=\"data row4 col4\" >393149.00</td>\n",
       "      <td id=\"T_aefe0_row4_col5\" class=\"data row4 col5\" >4942770.50</td>\n",
       "      <td id=\"T_aefe0_row4_col6\" class=\"data row4 col6\" >19159567.50</td>\n",
       "      <td id=\"T_aefe0_row4_col7\" class=\"data row4 col7\" >1348191368.00</td>\n",
       "    </tr>\n",
       "    <tr>\n",
       "      <th id=\"T_aefe0_level0_row5\" class=\"row_heading level0 row5\" >2000 Population</th>\n",
       "      <td id=\"T_aefe0_row5_col0\" class=\"data row5 col0\" >234.00</td>\n",
       "      <td id=\"T_aefe0_row5_col1\" class=\"data row5 col1\" >26269468.82</td>\n",
       "      <td id=\"T_aefe0_row5_col2\" class=\"data row5 col2\" >111698206.72</td>\n",
       "      <td id=\"T_aefe0_row5_col3\" class=\"data row5 col3\" >651.00</td>\n",
       "      <td id=\"T_aefe0_row5_col4\" class=\"data row5 col4\" >327242.00</td>\n",
       "      <td id=\"T_aefe0_row5_col5\" class=\"data row5 col5\" >4292907.00</td>\n",
       "      <td id=\"T_aefe0_row5_col6\" class=\"data row5 col6\" >15762301.00</td>\n",
       "      <td id=\"T_aefe0_row5_col7\" class=\"data row5 col7\" >1264099069.00</td>\n",
       "    </tr>\n",
       "    <tr>\n",
       "      <th id=\"T_aefe0_level0_row6\" class=\"row_heading level0 row6\" >1990 Population</th>\n",
       "      <td id=\"T_aefe0_row6_col0\" class=\"data row6 col0\" >234.00</td>\n",
       "      <td id=\"T_aefe0_row6_col1\" class=\"data row6 col1\" >22710220.79</td>\n",
       "      <td id=\"T_aefe0_row6_col2\" class=\"data row6 col2\" >97832173.35</td>\n",
       "      <td id=\"T_aefe0_row6_col3\" class=\"data row6 col3\" >700.00</td>\n",
       "      <td id=\"T_aefe0_row6_col4\" class=\"data row6 col4\" >264115.75</td>\n",
       "      <td id=\"T_aefe0_row6_col5\" class=\"data row6 col5\" >3825409.50</td>\n",
       "      <td id=\"T_aefe0_row6_col6\" class=\"data row6 col6\" >11869231.00</td>\n",
       "      <td id=\"T_aefe0_row6_col7\" class=\"data row6 col7\" >1153704252.00</td>\n",
       "    </tr>\n",
       "    <tr>\n",
       "      <th id=\"T_aefe0_level0_row7\" class=\"row_heading level0 row7\" >1980 Population</th>\n",
       "      <td id=\"T_aefe0_row7_col0\" class=\"data row7 col0\" >234.00</td>\n",
       "      <td id=\"T_aefe0_row7_col1\" class=\"data row7 col1\" >18984616.97</td>\n",
       "      <td id=\"T_aefe0_row7_col2\" class=\"data row7 col2\" >81785186.08</td>\n",
       "      <td id=\"T_aefe0_row7_col3\" class=\"data row7 col3\" >733.00</td>\n",
       "      <td id=\"T_aefe0_row7_col4\" class=\"data row7 col4\" >229614.25</td>\n",
       "      <td id=\"T_aefe0_row7_col5\" class=\"data row7 col5\" >3141145.50</td>\n",
       "      <td id=\"T_aefe0_row7_col6\" class=\"data row7 col6\" >9826053.75</td>\n",
       "      <td id=\"T_aefe0_row7_col7\" class=\"data row7 col7\" >982372466.00</td>\n",
       "    </tr>\n",
       "    <tr>\n",
       "      <th id=\"T_aefe0_level0_row8\" class=\"row_heading level0 row8\" >1970 Population</th>\n",
       "      <td id=\"T_aefe0_row8_col0\" class=\"data row8 col0\" >234.00</td>\n",
       "      <td id=\"T_aefe0_row8_col1\" class=\"data row8 col1\" >15786908.81</td>\n",
       "      <td id=\"T_aefe0_row8_col2\" class=\"data row8 col2\" >67795091.64</td>\n",
       "      <td id=\"T_aefe0_row8_col3\" class=\"data row8 col3\" >752.00</td>\n",
       "      <td id=\"T_aefe0_row8_col4\" class=\"data row8 col4\" >155997.00</td>\n",
       "      <td id=\"T_aefe0_row8_col5\" class=\"data row8 col5\" >2604830.00</td>\n",
       "      <td id=\"T_aefe0_row8_col6\" class=\"data row8 col6\" >8817329.00</td>\n",
       "      <td id=\"T_aefe0_row8_col7\" class=\"data row8 col7\" >822534450.00</td>\n",
       "    </tr>\n",
       "    <tr>\n",
       "      <th id=\"T_aefe0_level0_row9\" class=\"row_heading level0 row9\" >Area (km²)</th>\n",
       "      <td id=\"T_aefe0_row9_col0\" class=\"data row9 col0\" >234.00</td>\n",
       "      <td id=\"T_aefe0_row9_col1\" class=\"data row9 col1\" >581449.38</td>\n",
       "      <td id=\"T_aefe0_row9_col2\" class=\"data row9 col2\" >1761840.86</td>\n",
       "      <td id=\"T_aefe0_row9_col3\" class=\"data row9 col3\" >1.00</td>\n",
       "      <td id=\"T_aefe0_row9_col4\" class=\"data row9 col4\" >2650.00</td>\n",
       "      <td id=\"T_aefe0_row9_col5\" class=\"data row9 col5\" >81199.50</td>\n",
       "      <td id=\"T_aefe0_row9_col6\" class=\"data row9 col6\" >430425.75</td>\n",
       "      <td id=\"T_aefe0_row9_col7\" class=\"data row9 col7\" >17098242.00</td>\n",
       "    </tr>\n",
       "    <tr>\n",
       "      <th id=\"T_aefe0_level0_row10\" class=\"row_heading level0 row10\" >Density (per km²)</th>\n",
       "      <td id=\"T_aefe0_row10_col0\" class=\"data row10 col0\" >234.00</td>\n",
       "      <td id=\"T_aefe0_row10_col1\" class=\"data row10 col1\" >452.13</td>\n",
       "      <td id=\"T_aefe0_row10_col2\" class=\"data row10 col2\" >2066.12</td>\n",
       "      <td id=\"T_aefe0_row10_col3\" class=\"data row10 col3\" >0.03</td>\n",
       "      <td id=\"T_aefe0_row10_col4\" class=\"data row10 col4\" >38.42</td>\n",
       "      <td id=\"T_aefe0_row10_col5\" class=\"data row10 col5\" >95.35</td>\n",
       "      <td id=\"T_aefe0_row10_col6\" class=\"data row10 col6\" >238.93</td>\n",
       "      <td id=\"T_aefe0_row10_col7\" class=\"data row10 col7\" >23172.27</td>\n",
       "    </tr>\n",
       "    <tr>\n",
       "      <th id=\"T_aefe0_level0_row11\" class=\"row_heading level0 row11\" >Growth Rate</th>\n",
       "      <td id=\"T_aefe0_row11_col0\" class=\"data row11 col0\" >234.00</td>\n",
       "      <td id=\"T_aefe0_row11_col1\" class=\"data row11 col1\" >1.01</td>\n",
       "      <td id=\"T_aefe0_row11_col2\" class=\"data row11 col2\" >0.01</td>\n",
       "      <td id=\"T_aefe0_row11_col3\" class=\"data row11 col3\" >0.91</td>\n",
       "      <td id=\"T_aefe0_row11_col4\" class=\"data row11 col4\" >1.00</td>\n",
       "      <td id=\"T_aefe0_row11_col5\" class=\"data row11 col5\" >1.01</td>\n",
       "      <td id=\"T_aefe0_row11_col6\" class=\"data row11 col6\" >1.02</td>\n",
       "      <td id=\"T_aefe0_row11_col7\" class=\"data row11 col7\" >1.07</td>\n",
       "    </tr>\n",
       "    <tr>\n",
       "      <th id=\"T_aefe0_level0_row12\" class=\"row_heading level0 row12\" >World Population Percentage</th>\n",
       "      <td id=\"T_aefe0_row12_col0\" class=\"data row12 col0\" >234.00</td>\n",
       "      <td id=\"T_aefe0_row12_col1\" class=\"data row12 col1\" >0.43</td>\n",
       "      <td id=\"T_aefe0_row12_col2\" class=\"data row12 col2\" >1.71</td>\n",
       "      <td id=\"T_aefe0_row12_col3\" class=\"data row12 col3\" >0.00</td>\n",
       "      <td id=\"T_aefe0_row12_col4\" class=\"data row12 col4\" >0.01</td>\n",
       "      <td id=\"T_aefe0_row12_col5\" class=\"data row12 col5\" >0.07</td>\n",
       "      <td id=\"T_aefe0_row12_col6\" class=\"data row12 col6\" >0.28</td>\n",
       "      <td id=\"T_aefe0_row12_col7\" class=\"data row12 col7\" >17.88</td>\n",
       "    </tr>\n",
       "  </tbody>\n",
       "</table>\n"
      ],
      "text/plain": [
       "<pandas.io.formats.style.Styler at 0x213a0396c60>"
      ]
     },
     "execution_count": 8,
     "metadata": {},
     "output_type": "execute_result"
    }
   ],
   "source": [
    "data.describe().T.style.format(\"{:.2f}\")"
   ]
  },
  {
   "cell_type": "markdown",
   "id": "ac771441-23d8-40fc-8077-7d126b882a06",
   "metadata": {},
   "source": [
    "We can see from this matrix,year by year the population is increasing "
   ]
  },
  {
   "cell_type": "markdown",
   "id": "4aa70296-d9f0-4950-9737-f625c4a58d26",
   "metadata": {},
   "source": [
    "## Removing unnecessary columns"
   ]
  },
  {
   "cell_type": "code",
   "execution_count": 9,
   "id": "f15dcfc0-ea14-4ac2-b283-52fdf7df686a",
   "metadata": {},
   "outputs": [],
   "source": [
    "data.drop(columns=['Rank','CCA3','Capital'],inplace=True)"
   ]
  },
  {
   "cell_type": "code",
   "execution_count": 10,
   "id": "1155b6f8-56ca-4e3e-9f9f-dd19091aa154",
   "metadata": {},
   "outputs": [
    {
     "data": {
      "text/plain": [
       "Index(['Country/Territory', 'Continent', '2022 Population', '2020 Population',\n",
       "       '2015 Population', '2010 Population', '2000 Population',\n",
       "       '1990 Population', '1980 Population', '1970 Population', 'Area (km²)',\n",
       "       'Density (per km²)', 'Growth Rate', 'World Population Percentage'],\n",
       "      dtype='object')"
      ]
     },
     "execution_count": 10,
     "metadata": {},
     "output_type": "execute_result"
    }
   ],
   "source": [
    "data.columns"
   ]
  },
  {
   "cell_type": "code",
   "execution_count": 11,
   "id": "1beb5cb4-471f-4bcd-b17f-ed3c9134b49d",
   "metadata": {},
   "outputs": [],
   "source": [
    "data.rename(columns = {'Country/Territory':'Country'},inplace=True)"
   ]
  },
  {
   "cell_type": "code",
   "execution_count": 12,
   "id": "9d9439ee-ea39-4bf0-82c0-d0a952fcd85c",
   "metadata": {},
   "outputs": [
    {
     "data": {
      "text/plain": [
       "Index(['Country', 'Continent', '2022 Population', '2020 Population',\n",
       "       '2015 Population', '2010 Population', '2000 Population',\n",
       "       '1990 Population', '1980 Population', '1970 Population', 'Area (km²)',\n",
       "       'Density (per km²)', 'Growth Rate', 'World Population Percentage'],\n",
       "      dtype='object')"
      ]
     },
     "execution_count": 12,
     "metadata": {},
     "output_type": "execute_result"
    }
   ],
   "source": [
    "data.columns"
   ]
  },
  {
   "cell_type": "code",
   "execution_count": 13,
   "id": "e1f67371-7e6a-47d8-a2a5-7080b7b1d9b5",
   "metadata": {},
   "outputs": [],
   "source": [
    "new_data = data.melt(\n",
    "    id_vars = ['Country','Continent','Area (km²)','Density (per km²)','Growth Rate','World Population Percentage'],\n",
    "    value_vars = [col for col in data.columns if 'Population' in col and col != 'World Population Percentage'],\n",
    "    var_name = 'Year',\n",
    "    value_name = 'Population'\n",
    ")"
   ]
  },
  {
   "cell_type": "code",
   "execution_count": 14,
   "id": "578d55d3-0028-40af-bf77-aeecb60309df",
   "metadata": {},
   "outputs": [
    {
     "data": {
      "text/html": [
       "<div>\n",
       "<style scoped>\n",
       "    .dataframe tbody tr th:only-of-type {\n",
       "        vertical-align: middle;\n",
       "    }\n",
       "\n",
       "    .dataframe tbody tr th {\n",
       "        vertical-align: top;\n",
       "    }\n",
       "\n",
       "    .dataframe thead th {\n",
       "        text-align: right;\n",
       "    }\n",
       "</style>\n",
       "<table border=\"1\" class=\"dataframe\">\n",
       "  <thead>\n",
       "    <tr style=\"text-align: right;\">\n",
       "      <th></th>\n",
       "      <th>Country</th>\n",
       "      <th>Continent</th>\n",
       "      <th>Area (km²)</th>\n",
       "      <th>Density (per km²)</th>\n",
       "      <th>Growth Rate</th>\n",
       "      <th>World Population Percentage</th>\n",
       "      <th>Year</th>\n",
       "      <th>Population</th>\n",
       "    </tr>\n",
       "  </thead>\n",
       "  <tbody>\n",
       "    <tr>\n",
       "      <th>0</th>\n",
       "      <td>Afghanistan</td>\n",
       "      <td>Asia</td>\n",
       "      <td>652230</td>\n",
       "      <td>63.0587</td>\n",
       "      <td>1.0257</td>\n",
       "      <td>0.52</td>\n",
       "      <td>2022 Population</td>\n",
       "      <td>41128771</td>\n",
       "    </tr>\n",
       "    <tr>\n",
       "      <th>1</th>\n",
       "      <td>Albania</td>\n",
       "      <td>Europe</td>\n",
       "      <td>28748</td>\n",
       "      <td>98.8702</td>\n",
       "      <td>0.9957</td>\n",
       "      <td>0.04</td>\n",
       "      <td>2022 Population</td>\n",
       "      <td>2842321</td>\n",
       "    </tr>\n",
       "    <tr>\n",
       "      <th>2</th>\n",
       "      <td>Algeria</td>\n",
       "      <td>Africa</td>\n",
       "      <td>2381741</td>\n",
       "      <td>18.8531</td>\n",
       "      <td>1.0164</td>\n",
       "      <td>0.56</td>\n",
       "      <td>2022 Population</td>\n",
       "      <td>44903225</td>\n",
       "    </tr>\n",
       "    <tr>\n",
       "      <th>3</th>\n",
       "      <td>American Samoa</td>\n",
       "      <td>Oceania</td>\n",
       "      <td>199</td>\n",
       "      <td>222.4774</td>\n",
       "      <td>0.9831</td>\n",
       "      <td>0.00</td>\n",
       "      <td>2022 Population</td>\n",
       "      <td>44273</td>\n",
       "    </tr>\n",
       "    <tr>\n",
       "      <th>4</th>\n",
       "      <td>Andorra</td>\n",
       "      <td>Europe</td>\n",
       "      <td>468</td>\n",
       "      <td>170.5641</td>\n",
       "      <td>1.0100</td>\n",
       "      <td>0.00</td>\n",
       "      <td>2022 Population</td>\n",
       "      <td>79824</td>\n",
       "    </tr>\n",
       "  </tbody>\n",
       "</table>\n",
       "</div>"
      ],
      "text/plain": [
       "          Country Continent  Area (km²)  Density (per km²)  Growth Rate  \\\n",
       "0     Afghanistan      Asia      652230            63.0587       1.0257   \n",
       "1         Albania    Europe       28748            98.8702       0.9957   \n",
       "2         Algeria    Africa     2381741            18.8531       1.0164   \n",
       "3  American Samoa   Oceania         199           222.4774       0.9831   \n",
       "4         Andorra    Europe         468           170.5641       1.0100   \n",
       "\n",
       "   World Population Percentage             Year  Population  \n",
       "0                         0.52  2022 Population    41128771  \n",
       "1                         0.04  2022 Population     2842321  \n",
       "2                         0.56  2022 Population    44903225  \n",
       "3                         0.00  2022 Population       44273  \n",
       "4                         0.00  2022 Population       79824  "
      ]
     },
     "execution_count": 14,
     "metadata": {},
     "output_type": "execute_result"
    }
   ],
   "source": [
    "new_data.head()"
   ]
  },
  {
   "cell_type": "code",
   "execution_count": 15,
   "id": "5682cc5f-4444-45c4-bb04-43d43759fbaf",
   "metadata": {},
   "outputs": [],
   "source": [
    "new_data['Year'] = new_data['Year'].str.split().str[0]"
   ]
  },
  {
   "cell_type": "code",
   "execution_count": 16,
   "id": "1f4e7d5f-cd35-43d3-9c0f-343bb1db7e73",
   "metadata": {},
   "outputs": [
    {
     "data": {
      "text/html": [
       "<div>\n",
       "<style scoped>\n",
       "    .dataframe tbody tr th:only-of-type {\n",
       "        vertical-align: middle;\n",
       "    }\n",
       "\n",
       "    .dataframe tbody tr th {\n",
       "        vertical-align: top;\n",
       "    }\n",
       "\n",
       "    .dataframe thead th {\n",
       "        text-align: right;\n",
       "    }\n",
       "</style>\n",
       "<table border=\"1\" class=\"dataframe\">\n",
       "  <thead>\n",
       "    <tr style=\"text-align: right;\">\n",
       "      <th></th>\n",
       "      <th>Country</th>\n",
       "      <th>Continent</th>\n",
       "      <th>Area (km²)</th>\n",
       "      <th>Density (per km²)</th>\n",
       "      <th>Growth Rate</th>\n",
       "      <th>World Population Percentage</th>\n",
       "      <th>Year</th>\n",
       "      <th>Population</th>\n",
       "    </tr>\n",
       "  </thead>\n",
       "  <tbody>\n",
       "    <tr>\n",
       "      <th>0</th>\n",
       "      <td>Afghanistan</td>\n",
       "      <td>Asia</td>\n",
       "      <td>652230</td>\n",
       "      <td>63.0587</td>\n",
       "      <td>1.0257</td>\n",
       "      <td>0.52</td>\n",
       "      <td>2022</td>\n",
       "      <td>41128771</td>\n",
       "    </tr>\n",
       "    <tr>\n",
       "      <th>1</th>\n",
       "      <td>Albania</td>\n",
       "      <td>Europe</td>\n",
       "      <td>28748</td>\n",
       "      <td>98.8702</td>\n",
       "      <td>0.9957</td>\n",
       "      <td>0.04</td>\n",
       "      <td>2022</td>\n",
       "      <td>2842321</td>\n",
       "    </tr>\n",
       "    <tr>\n",
       "      <th>2</th>\n",
       "      <td>Algeria</td>\n",
       "      <td>Africa</td>\n",
       "      <td>2381741</td>\n",
       "      <td>18.8531</td>\n",
       "      <td>1.0164</td>\n",
       "      <td>0.56</td>\n",
       "      <td>2022</td>\n",
       "      <td>44903225</td>\n",
       "    </tr>\n",
       "    <tr>\n",
       "      <th>3</th>\n",
       "      <td>American Samoa</td>\n",
       "      <td>Oceania</td>\n",
       "      <td>199</td>\n",
       "      <td>222.4774</td>\n",
       "      <td>0.9831</td>\n",
       "      <td>0.00</td>\n",
       "      <td>2022</td>\n",
       "      <td>44273</td>\n",
       "    </tr>\n",
       "    <tr>\n",
       "      <th>4</th>\n",
       "      <td>Andorra</td>\n",
       "      <td>Europe</td>\n",
       "      <td>468</td>\n",
       "      <td>170.5641</td>\n",
       "      <td>1.0100</td>\n",
       "      <td>0.00</td>\n",
       "      <td>2022</td>\n",
       "      <td>79824</td>\n",
       "    </tr>\n",
       "  </tbody>\n",
       "</table>\n",
       "</div>"
      ],
      "text/plain": [
       "          Country Continent  Area (km²)  Density (per km²)  Growth Rate  \\\n",
       "0     Afghanistan      Asia      652230            63.0587       1.0257   \n",
       "1         Albania    Europe       28748            98.8702       0.9957   \n",
       "2         Algeria    Africa     2381741            18.8531       1.0164   \n",
       "3  American Samoa   Oceania         199           222.4774       0.9831   \n",
       "4         Andorra    Europe         468           170.5641       1.0100   \n",
       "\n",
       "   World Population Percentage  Year  Population  \n",
       "0                         0.52  2022    41128771  \n",
       "1                         0.04  2022     2842321  \n",
       "2                         0.56  2022    44903225  \n",
       "3                         0.00  2022       44273  \n",
       "4                         0.00  2022       79824  "
      ]
     },
     "execution_count": 16,
     "metadata": {},
     "output_type": "execute_result"
    }
   ],
   "source": [
    "new_data.head()"
   ]
  },
  {
   "cell_type": "code",
   "execution_count": 17,
   "id": "4d876f37-dc9c-4578-873c-95bbba4b5812",
   "metadata": {},
   "outputs": [
    {
     "data": {
      "text/plain": [
       "Country                         object\n",
       "Continent                       object\n",
       "Area (km²)                       int64\n",
       "Density (per km²)              float64\n",
       "Growth Rate                    float64\n",
       "World Population Percentage    float64\n",
       "Year                            object\n",
       "Population                       int64\n",
       "dtype: object"
      ]
     },
     "execution_count": 17,
     "metadata": {},
     "output_type": "execute_result"
    }
   ],
   "source": [
    "new_data.dtypes"
   ]
  },
  {
   "cell_type": "code",
   "execution_count": 18,
   "id": "50a148d4-892a-4faf-a806-d8630b2a02c8",
   "metadata": {},
   "outputs": [],
   "source": [
    "new_data['Year'] = new_data['Year'].astype('int')"
   ]
  },
  {
   "cell_type": "code",
   "execution_count": 19,
   "id": "bb80957b-5667-4784-8c18-367996b09392",
   "metadata": {},
   "outputs": [
    {
     "data": {
      "text/plain": [
       "Country                         object\n",
       "Continent                       object\n",
       "Area (km²)                       int64\n",
       "Density (per km²)              float64\n",
       "Growth Rate                    float64\n",
       "World Population Percentage    float64\n",
       "Year                             int32\n",
       "Population                       int64\n",
       "dtype: object"
      ]
     },
     "execution_count": 19,
     "metadata": {},
     "output_type": "execute_result"
    }
   ],
   "source": [
    "new_data.dtypes"
   ]
  },
  {
   "cell_type": "markdown",
   "id": "f3d4297d-00bd-4f12-a7cd-b70f4b1f1d91",
   "metadata": {},
   "source": [
    "## Univariate Analysis"
   ]
  },
  {
   "cell_type": "code",
   "execution_count": 20,
   "id": "b748c3a9-13a4-4b96-a261-6ce02d0dc629",
   "metadata": {},
   "outputs": [
    {
     "data": {
      "image/png": "[encoded data removed]",
      "text/plain": [
       "<Figure size 1500x1000 with 5 Axes>"
      ]
     },
     "metadata": {},
     "output_type": "display_data"
    }
   ],
   "source": [
    "plt.figure(figsize=(15,10))\n",
    "plt.suptitle('Distribution of Numerical columns',fontsize=16)\n",
    "plt.subplot(321)\n",
    "sns.histplot(x=new_data['Population'],color='orange')\n",
    "plt.subplot(322)\n",
    "sns.boxplot(x=new_data['Area (km²)'],color='orange')\n",
    "plt.subplot(323)\n",
    "sns.kdeplot(x=new_data['Density (per km²)'],color='orange')\n",
    "plt.subplot(324)\n",
    "sns.boxplot(x=new_data['Growth Rate'],color='orange')\n",
    "plt.subplot(325)\n",
    "sns.boxplot(x=new_data['World Population Percentage'],color='orange')\n",
    "\n",
    "plt.tight_layout()\n",
    "plt.show();"
   ]
  },
  {
   "cell_type": "markdown",
   "id": "e044b668-2f0c-4eb9-8944-e3d56a32e91e",
   "metadata": {},
   "source": [
    "The Data is looking right skewed except growth rate coloumn."
   ]
  },
  {
   "cell_type": "code",
   "execution_count": 21,
   "id": "e5fc2a1e-cbad-4859-88ee-859c55f33c0a",
   "metadata": {},
   "outputs": [
    {
     "data": {
      "text/plain": [
       "Area (km²)                     6.047809\n",
       "Density (per km²)              8.898606\n",
       "Growth Rate                   -1.095473\n",
       "World Population Percentage    9.099631\n",
       "Year                          -0.422382\n",
       "Population                     9.824845\n",
       "dtype: float64"
      ]
     },
     "execution_count": 21,
     "metadata": {},
     "output_type": "execute_result"
    }
   ],
   "source": [
    "new_data.select_dtypes(exclude='object').skew()"
   ]
  },
  {
   "cell_type": "markdown",
   "id": "577083d6-9d9e-4cd0-b5f4-aa538e4fe2c6",
   "metadata": {},
   "source": [
    "The most of the columns have high positive skewness.so we perform log transformation for handling outliers."
   ]
  },
  {
   "cell_type": "code",
   "execution_count": 22,
   "id": "37f97d8c-aefd-4f03-a812-2ef38f64ffa5",
   "metadata": {},
   "outputs": [
    {
     "data": {
      "text/html": [
       "<div>\n",
       "<style scoped>\n",
       "    .dataframe tbody tr th:only-of-type {\n",
       "        vertical-align: middle;\n",
       "    }\n",
       "\n",
       "    .dataframe tbody tr th {\n",
       "        vertical-align: top;\n",
       "    }\n",
       "\n",
       "    .dataframe thead th {\n",
       "        text-align: right;\n",
       "    }\n",
       "</style>\n",
       "<table border=\"1\" class=\"dataframe\">\n",
       "  <thead>\n",
       "    <tr style=\"text-align: right;\">\n",
       "      <th></th>\n",
       "      <th>Country</th>\n",
       "      <th>Continent</th>\n",
       "      <th>Area (km²)</th>\n",
       "      <th>Density (per km²)</th>\n",
       "      <th>Growth Rate</th>\n",
       "      <th>World Population Percentage</th>\n",
       "      <th>Year</th>\n",
       "      <th>Population</th>\n",
       "    </tr>\n",
       "  </thead>\n",
       "  <tbody>\n",
       "    <tr>\n",
       "      <th>0</th>\n",
       "      <td>Afghanistan</td>\n",
       "      <td>Asia</td>\n",
       "      <td>652230</td>\n",
       "      <td>63.0587</td>\n",
       "      <td>1.0257</td>\n",
       "      <td>0.52</td>\n",
       "      <td>2022</td>\n",
       "      <td>41128771</td>\n",
       "    </tr>\n",
       "    <tr>\n",
       "      <th>1</th>\n",
       "      <td>Albania</td>\n",
       "      <td>Europe</td>\n",
       "      <td>28748</td>\n",
       "      <td>98.8702</td>\n",
       "      <td>0.9957</td>\n",
       "      <td>0.04</td>\n",
       "      <td>2022</td>\n",
       "      <td>2842321</td>\n",
       "    </tr>\n",
       "    <tr>\n",
       "      <th>2</th>\n",
       "      <td>Algeria</td>\n",
       "      <td>Africa</td>\n",
       "      <td>2381741</td>\n",
       "      <td>18.8531</td>\n",
       "      <td>1.0164</td>\n",
       "      <td>0.56</td>\n",
       "      <td>2022</td>\n",
       "      <td>44903225</td>\n",
       "    </tr>\n",
       "    <tr>\n",
       "      <th>3</th>\n",
       "      <td>American Samoa</td>\n",
       "      <td>Oceania</td>\n",
       "      <td>199</td>\n",
       "      <td>222.4774</td>\n",
       "      <td>0.9831</td>\n",
       "      <td>0.00</td>\n",
       "      <td>2022</td>\n",
       "      <td>44273</td>\n",
       "    </tr>\n",
       "    <tr>\n",
       "      <th>4</th>\n",
       "      <td>Andorra</td>\n",
       "      <td>Europe</td>\n",
       "      <td>468</td>\n",
       "      <td>170.5641</td>\n",
       "      <td>1.0100</td>\n",
       "      <td>0.00</td>\n",
       "      <td>2022</td>\n",
       "      <td>79824</td>\n",
       "    </tr>\n",
       "  </tbody>\n",
       "</table>\n",
       "</div>"
      ],
      "text/plain": [
       "          Country Continent  Area (km²)  Density (per km²)  Growth Rate  \\\n",
       "0     Afghanistan      Asia      652230            63.0587       1.0257   \n",
       "1         Albania    Europe       28748            98.8702       0.9957   \n",
       "2         Algeria    Africa     2381741            18.8531       1.0164   \n",
       "3  American Samoa   Oceania         199           222.4774       0.9831   \n",
       "4         Andorra    Europe         468           170.5641       1.0100   \n",
       "\n",
       "   World Population Percentage  Year  Population  \n",
       "0                         0.52  2022    41128771  \n",
       "1                         0.04  2022     2842321  \n",
       "2                         0.56  2022    44903225  \n",
       "3                         0.00  2022       44273  \n",
       "4                         0.00  2022       79824  "
      ]
     },
     "execution_count": 22,
     "metadata": {},
     "output_type": "execute_result"
    }
   ],
   "source": [
    "new_data.head()"
   ]
  },
  {
   "cell_type": "code",
   "execution_count": 23,
   "id": "e8569f37-a6f7-4e01-8b01-c23e744273aa",
   "metadata": {},
   "outputs": [
    {
     "data": {
      "text/plain": [
       "array(['Asia', 'Europe', 'Africa', 'Oceania', 'North America',\n",
       "       'South America'], dtype=object)"
      ]
     },
     "execution_count": 23,
     "metadata": {},
     "output_type": "execute_result"
    }
   ],
   "source": [
    "new_data.Continent.unique()"
   ]
  },
  {
   "cell_type": "markdown",
   "id": "c11883e2-89b3-40a3-b5e4-0d32d82c0af4",
   "metadata": {},
   "source": [
    "There are 6 continents in the dataset."
   ]
  },
  {
   "cell_type": "markdown",
   "id": "82a6d04f-733c-4834-b976-44037206c7cc",
   "metadata": {},
   "source": [
    "## Bivariate Analysis"
   ]
  },
  {
   "cell_type": "code",
   "execution_count": 24,
   "id": "b6cfbfdf-1220-41c3-ab89-06a7d2094f57",
   "metadata": {},
   "outputs": [
    {
     "data": {
      "text/html": [
       "<div>\n",
       "<style scoped>\n",
       "    .dataframe tbody tr th:only-of-type {\n",
       "        vertical-align: middle;\n",
       "    }\n",
       "\n",
       "    .dataframe tbody tr th {\n",
       "        vertical-align: top;\n",
       "    }\n",
       "\n",
       "    .dataframe thead th {\n",
       "        text-align: right;\n",
       "    }\n",
       "</style>\n",
       "<table border=\"1\" class=\"dataframe\">\n",
       "  <thead>\n",
       "    <tr style=\"text-align: right;\">\n",
       "      <th></th>\n",
       "      <th>Country</th>\n",
       "      <th>Continent</th>\n",
       "      <th>Area (km²)</th>\n",
       "      <th>Density (per km²)</th>\n",
       "      <th>Growth Rate</th>\n",
       "      <th>World Population Percentage</th>\n",
       "      <th>Year</th>\n",
       "      <th>Population</th>\n",
       "    </tr>\n",
       "  </thead>\n",
       "  <tbody>\n",
       "    <tr>\n",
       "      <th>0</th>\n",
       "      <td>Afghanistan</td>\n",
       "      <td>Asia</td>\n",
       "      <td>652230</td>\n",
       "      <td>63.0587</td>\n",
       "      <td>1.0257</td>\n",
       "      <td>0.52</td>\n",
       "      <td>2022</td>\n",
       "      <td>41128771</td>\n",
       "    </tr>\n",
       "    <tr>\n",
       "      <th>1</th>\n",
       "      <td>Albania</td>\n",
       "      <td>Europe</td>\n",
       "      <td>28748</td>\n",
       "      <td>98.8702</td>\n",
       "      <td>0.9957</td>\n",
       "      <td>0.04</td>\n",
       "      <td>2022</td>\n",
       "      <td>2842321</td>\n",
       "    </tr>\n",
       "    <tr>\n",
       "      <th>2</th>\n",
       "      <td>Algeria</td>\n",
       "      <td>Africa</td>\n",
       "      <td>2381741</td>\n",
       "      <td>18.8531</td>\n",
       "      <td>1.0164</td>\n",
       "      <td>0.56</td>\n",
       "      <td>2022</td>\n",
       "      <td>44903225</td>\n",
       "    </tr>\n",
       "    <tr>\n",
       "      <th>3</th>\n",
       "      <td>American Samoa</td>\n",
       "      <td>Oceania</td>\n",
       "      <td>199</td>\n",
       "      <td>222.4774</td>\n",
       "      <td>0.9831</td>\n",
       "      <td>0.00</td>\n",
       "      <td>2022</td>\n",
       "      <td>44273</td>\n",
       "    </tr>\n",
       "    <tr>\n",
       "      <th>4</th>\n",
       "      <td>Andorra</td>\n",
       "      <td>Europe</td>\n",
       "      <td>468</td>\n",
       "      <td>170.5641</td>\n",
       "      <td>1.0100</td>\n",
       "      <td>0.00</td>\n",
       "      <td>2022</td>\n",
       "      <td>79824</td>\n",
       "    </tr>\n",
       "  </tbody>\n",
       "</table>\n",
       "</div>"
      ],
      "text/plain": [
       "          Country Continent  Area (km²)  Density (per km²)  Growth Rate  \\\n",
       "0     Afghanistan      Asia      652230            63.0587       1.0257   \n",
       "1         Albania    Europe       28748            98.8702       0.9957   \n",
       "2         Algeria    Africa     2381741            18.8531       1.0164   \n",
       "3  American Samoa   Oceania         199           222.4774       0.9831   \n",
       "4         Andorra    Europe         468           170.5641       1.0100   \n",
       "\n",
       "   World Population Percentage  Year  Population  \n",
       "0                         0.52  2022    41128771  \n",
       "1                         0.04  2022     2842321  \n",
       "2                         0.56  2022    44903225  \n",
       "3                         0.00  2022       44273  \n",
       "4                         0.00  2022       79824  "
      ]
     },
     "execution_count": 24,
     "metadata": {},
     "output_type": "execute_result"
    }
   ],
   "source": [
    "new_data.head()"
   ]
  },
  {
   "cell_type": "code",
   "execution_count": 25,
   "id": "ac838cff-6c6e-4615-9457-c4073555c9b3",
   "metadata": {},
   "outputs": [
    {
     "data": {
      "image/png": "[encoded data removed]",
      "text/plain": [
       "<Figure size 640x480 with 1 Axes>"
      ]
     },
     "metadata": {},
     "output_type": "display_data"
    }
   ],
   "source": [
    "top_countries = new_data.groupby(['Country'])['Population'].sum().nlargest(10)\n",
    "sns.barplot(x=top_countries.index,y=top_countries.values,palette='rainbow')\n",
    "plt.xticks(rotation=45)\n",
    "plt.ylabel('Population')\n",
    "plt.show();"
   ]
  },
  {
   "cell_type": "markdown",
   "id": "b9db8a49-9df5-4ab1-ac02-127ec068a8f3",
   "metadata": {},
   "source": [
    "China is the country with the Most Population,And Nearby to china,india is there."
   ]
  },
  {
   "cell_type": "code",
   "execution_count": 26,
   "id": "9afd42ac-bbc4-4494-886a-996f22a4be35",
   "metadata": {},
   "outputs": [
    {
     "data": {
      "image/png": "[encoded data removed]",
      "text/plain": [
       "<Figure size 640x480 with 1 Axes>"
      ]
     },
     "metadata": {},
     "output_type": "display_data"
    }
   ],
   "source": [
    "bottom_countries = new_data.groupby(['Country'])['Population'].sum().nsmallest(5)\n",
    "sns.barplot(x=bottom_countries.index,y=bottom_countries.values,palette='summer')\n",
    "plt.ylabel('Population')\n",
    "plt.show();"
   ]
  },
  {
   "cell_type": "markdown",
   "id": "c8941562-abc4-432f-b058-fe1a1662e2fe",
   "metadata": {},
   "source": [
    "Vatican is the most lowest population country."
   ]
  },
  {
   "cell_type": "code",
   "execution_count": 27,
   "id": "74e8d023-93f7-436e-8faa-961ce838da91",
   "metadata": {},
   "outputs": [
    {
     "data": {
      "image/png": "[encoded data removed]",
      "text/plain": [
       "<Figure size 640x480 with 1 Axes>"
      ]
     },
     "metadata": {},
     "output_type": "display_data"
    }
   ],
   "source": [
    "continents_data = new_data.groupby(['Continent'])['Population'].sum()\n",
    "sns.barplot(x=continents_data.index,y=continents_data.values,palette='magma')\n",
    "plt.xticks(rotation=45)\n",
    "plt.ylabel('Population')\n",
    "plt.show();"
   ]
  },
  {
   "cell_type": "markdown",
   "id": "4a1eebd9-2288-49b4-be6d-f464a465db95",
   "metadata": {},
   "source": [
    "Asia is the highest population continent.\n",
    "\n",
    "oceania is the lowest population continent."
   ]
  },
  {
   "cell_type": "code",
   "execution_count": 28,
   "id": "ac66a96a-7591-4a71-9ca2-e4c436930e2b",
   "metadata": {},
   "outputs": [
    {
     "data": {
      "image/png": "[encoded data removed]",
      "text/plain": [
       "<Figure size 640x480 with 1 Axes>"
      ]
     },
     "metadata": {},
     "output_type": "display_data"
    }
   ],
   "source": [
    "sns.barplot(x=new_data['Year'],y=new_data['Population'],color='lightgreen',ci=False)\n",
    "plt.show();"
   ]
  },
  {
   "cell_type": "markdown",
   "id": "f44933d0-3358-42ba-92cf-f64651219652",
   "metadata": {},
   "source": [
    "The population is incresing year by year."
   ]
  },
  {
   "cell_type": "markdown",
   "id": "ea56aed8-b8b0-43f9-9187-ecd9dad07315",
   "metadata": {},
   "source": [
    "## Multivariate Analysis"
   ]
  },
  {
   "cell_type": "code",
   "execution_count": 29,
   "id": "a85285e2-78db-412b-9453-825deab6cc7c",
   "metadata": {},
   "outputs": [
    {
     "data": {
      "image/png": "[encoded data removed]",
      "text/plain": [
       "<Figure size 640x480 with 2 Axes>"
      ]
     },
     "metadata": {},
     "output_type": "display_data"
    }
   ],
   "source": [
    "sns.heatmap(new_data.corr(numeric_only=True),annot=True,fmt='.2f',cmap='Purples')\n",
    "plt.show();"
   ]
  },
  {
   "cell_type": "markdown",
   "id": "d9ff399f-92f8-4538-8e56-4e173f4acd39",
   "metadata": {},
   "source": [
    "-- Here Area,world population percentage,population are positively correlated."
   ]
  },
  {
   "cell_type": "markdown",
   "id": "f883b534-f594-40eb-829f-1a222db60d7b",
   "metadata": {},
   "source": [
    "### Applying transformations for handling outliers."
   ]
  },
  {
   "cell_type": "markdown",
   "id": "4608ac5b-d855-4364-ac09-024a2a050327",
   "metadata": {},
   "source": [
    "#### Positive skewness transformation using log"
   ]
  },
  {
   "cell_type": "code",
   "execution_count": 30,
   "id": "afea3b03-60a6-4623-9b3a-6657a120214f",
   "metadata": {},
   "outputs": [],
   "source": [
    "new_data['Area (km²)'] = np.log1p(new_data['Area (km²)'])\n",
    "new_data['Density (per km²)'] = np.log1p(new_data['Density (per km²)'])\n",
    "new_data['World Population Percentage'] = np.log1p(new_data['World Population Percentage'])\n",
    "new_data['Population'] = np.log1p(new_data['Population'])\n"
   ]
  },
  {
   "cell_type": "markdown",
   "id": "dea6cbf5-eea7-401e-93e9-a90a7c1e7157",
   "metadata": {},
   "source": [
    "#### Negative skewness transformation using square"
   ]
  },
  {
   "cell_type": "code",
   "execution_count": 31,
   "id": "9a0392b6-ccb7-40ea-bd79-636d2f6ac7e8",
   "metadata": {},
   "outputs": [],
   "source": [
    "new_data['Growth Rate'] = new_data['Growth Rate']**2"
   ]
  },
  {
   "cell_type": "code",
   "execution_count": 32,
   "id": "bd43bb91-071d-4ce6-8869-a5604e0b9a8e",
   "metadata": {},
   "outputs": [
    {
     "data": {
      "image/png": "[encoded data removed]",
      "text/plain": [
       "<Figure size 1500x1000 with 5 Axes>"
      ]
     },
     "metadata": {},
     "output_type": "display_data"
    }
   ],
   "source": [
    "plt.figure(figsize=(15,10))\n",
    "plt.suptitle('Distribution of Numerical columns After Transformation',fontsize=16)\n",
    "plt.subplot(321)\n",
    "sns.histplot(x=new_data['Population'],color='green')\n",
    "plt.subplot(322)\n",
    "sns.boxplot(x=new_data['Area (km²)'],color='green')\n",
    "plt.subplot(323)\n",
    "sns.kdeplot(x=new_data['Density (per km²)'],color='green')\n",
    "plt.subplot(324)\n",
    "sns.boxplot(x=new_data['Growth Rate'],color='green')\n",
    "plt.subplot(325)\n",
    "sns.boxplot(x=new_data['World Population Percentage'],color='green')\n",
    "\n",
    "plt.tight_layout()\n",
    "plt.show();"
   ]
  },
  {
   "cell_type": "code",
   "execution_count": 33,
   "id": "3702ace1-43c3-4b62-9254-4700c0df45cb",
   "metadata": {},
   "outputs": [
    {
     "data": {
      "text/plain": [
       "Area (km²)                    -0.674326\n",
       "Density (per km²)              0.171402\n",
       "Growth Rate                   -0.840926\n",
       "World Population Percentage    3.950158\n",
       "Year                          -0.422382\n",
       "Population                    -0.536152\n",
       "dtype: float64"
      ]
     },
     "execution_count": 33,
     "metadata": {},
     "output_type": "execute_result"
    }
   ],
   "source": [
    "new_data.select_dtypes(exclude='object').skew()"
   ]
  },
  {
   "cell_type": "markdown",
   "id": "2c74d9ac-cc5f-4747-8dd1-3f36365463ad",
   "metadata": {},
   "source": [
    "Still world population percentage have high skewness. we can do some boxcox transformations after splitting the data into train and test.Now we can move like this only."
   ]
  },
  {
   "cell_type": "code",
   "execution_count": 34,
   "id": "d13b95a8-10e5-4de1-989f-7d2706e77030",
   "metadata": {},
   "outputs": [
    {
     "data": {
      "text/html": [
       "<div>\n",
       "<style scoped>\n",
       "    .dataframe tbody tr th:only-of-type {\n",
       "        vertical-align: middle;\n",
       "    }\n",
       "\n",
       "    .dataframe tbody tr th {\n",
       "        vertical-align: top;\n",
       "    }\n",
       "\n",
       "    .dataframe thead th {\n",
       "        text-align: right;\n",
       "    }\n",
       "</style>\n",
       "<table border=\"1\" class=\"dataframe\">\n",
       "  <thead>\n",
       "    <tr style=\"text-align: right;\">\n",
       "      <th></th>\n",
       "      <th>Country</th>\n",
       "      <th>Continent</th>\n",
       "      <th>Area (km²)</th>\n",
       "      <th>Density (per km²)</th>\n",
       "      <th>Growth Rate</th>\n",
       "      <th>World Population Percentage</th>\n",
       "      <th>Year</th>\n",
       "      <th>Population</th>\n",
       "    </tr>\n",
       "  </thead>\n",
       "  <tbody>\n",
       "    <tr>\n",
       "      <th>0</th>\n",
       "      <td>Afghanistan</td>\n",
       "      <td>Asia</td>\n",
       "      <td>13.388154</td>\n",
       "      <td>4.159800</td>\n",
       "      <td>1.052060</td>\n",
       "      <td>0.418710</td>\n",
       "      <td>2022</td>\n",
       "      <td>17.532218</td>\n",
       "    </tr>\n",
       "    <tr>\n",
       "      <th>1</th>\n",
       "      <td>Albania</td>\n",
       "      <td>Europe</td>\n",
       "      <td>10.266358</td>\n",
       "      <td>4.603871</td>\n",
       "      <td>0.991418</td>\n",
       "      <td>0.039221</td>\n",
       "      <td>2022</td>\n",
       "      <td>14.860132</td>\n",
       "    </tr>\n",
       "    <tr>\n",
       "      <th>2</th>\n",
       "      <td>Algeria</td>\n",
       "      <td>Africa</td>\n",
       "      <td>14.683343</td>\n",
       "      <td>2.988360</td>\n",
       "      <td>1.033069</td>\n",
       "      <td>0.444686</td>\n",
       "      <td>2022</td>\n",
       "      <td>17.620020</td>\n",
       "    </tr>\n",
       "    <tr>\n",
       "      <th>3</th>\n",
       "      <td>American Samoa</td>\n",
       "      <td>Oceania</td>\n",
       "      <td>5.298317</td>\n",
       "      <td>5.409310</td>\n",
       "      <td>0.966486</td>\n",
       "      <td>0.000000</td>\n",
       "      <td>2022</td>\n",
       "      <td>10.698153</td>\n",
       "    </tr>\n",
       "    <tr>\n",
       "      <th>4</th>\n",
       "      <td>Andorra</td>\n",
       "      <td>Europe</td>\n",
       "      <td>6.150603</td>\n",
       "      <td>5.144957</td>\n",
       "      <td>1.020100</td>\n",
       "      <td>0.000000</td>\n",
       "      <td>2022</td>\n",
       "      <td>11.287592</td>\n",
       "    </tr>\n",
       "  </tbody>\n",
       "</table>\n",
       "</div>"
      ],
      "text/plain": [
       "          Country Continent  Area (km²)  Density (per km²)  Growth Rate  \\\n",
       "0     Afghanistan      Asia   13.388154           4.159800     1.052060   \n",
       "1         Albania    Europe   10.266358           4.603871     0.991418   \n",
       "2         Algeria    Africa   14.683343           2.988360     1.033069   \n",
       "3  American Samoa   Oceania    5.298317           5.409310     0.966486   \n",
       "4         Andorra    Europe    6.150603           5.144957     1.020100   \n",
       "\n",
       "   World Population Percentage  Year  Population  \n",
       "0                     0.418710  2022   17.532218  \n",
       "1                     0.039221  2022   14.860132  \n",
       "2                     0.444686  2022   17.620020  \n",
       "3                     0.000000  2022   10.698153  \n",
       "4                     0.000000  2022   11.287592  "
      ]
     },
     "execution_count": 34,
     "metadata": {},
     "output_type": "execute_result"
    }
   ],
   "source": [
    "new_data.head()"
   ]
  },
  {
   "cell_type": "markdown",
   "id": "46d0bd69-3d28-40cb-a8f2-7d053e0cce48",
   "metadata": {},
   "source": [
    "## Preprocessing"
   ]
  },
  {
   "cell_type": "code",
   "execution_count": 35,
   "id": "de00d78c-9ea6-4ea2-bf2f-f91827e1386a",
   "metadata": {},
   "outputs": [],
   "source": [
    "features = new_data.iloc[:,:-1]\n",
    "target = new_data.iloc[:,-1]"
   ]
  },
  {
   "cell_type": "code",
   "execution_count": 36,
   "id": "bfb7556d-50af-4b34-95bb-2fc416045a9f",
   "metadata": {},
   "outputs": [],
   "source": [
    "x_train,x_test,y_train,y_test = train_test_split(features,target,test_size=0.2,random_state=12)"
   ]
  },
  {
   "cell_type": "code",
   "execution_count": 37,
   "id": "948cd42f-b58a-439d-b7ce-73846ab1614a",
   "metadata": {},
   "outputs": [
    {
     "data": {
      "text/html": [
       "<div>\n",
       "<style scoped>\n",
       "    .dataframe tbody tr th:only-of-type {\n",
       "        vertical-align: middle;\n",
       "    }\n",
       "\n",
       "    .dataframe tbody tr th {\n",
       "        vertical-align: top;\n",
       "    }\n",
       "\n",
       "    .dataframe thead th {\n",
       "        text-align: right;\n",
       "    }\n",
       "</style>\n",
       "<table border=\"1\" class=\"dataframe\">\n",
       "  <thead>\n",
       "    <tr style=\"text-align: right;\">\n",
       "      <th></th>\n",
       "      <th>Country</th>\n",
       "      <th>Continent</th>\n",
       "      <th>Area (km²)</th>\n",
       "      <th>Density (per km²)</th>\n",
       "      <th>Growth Rate</th>\n",
       "      <th>World Population Percentage</th>\n",
       "      <th>Year</th>\n",
       "    </tr>\n",
       "  </thead>\n",
       "  <tbody>\n",
       "    <tr>\n",
       "      <th>39</th>\n",
       "      <td>Chad</td>\n",
       "      <td>Africa</td>\n",
       "      <td>14.065492</td>\n",
       "      <td>2.694843</td>\n",
       "      <td>1.064199</td>\n",
       "      <td>0.198851</td>\n",
       "      <td>2022</td>\n",
       "    </tr>\n",
       "    <tr>\n",
       "      <th>896</th>\n",
       "      <td>South Korea</td>\n",
       "      <td>Asia</td>\n",
       "      <td>11.515033</td>\n",
       "      <td>6.250115</td>\n",
       "      <td>0.999400</td>\n",
       "      <td>0.500775</td>\n",
       "      <td>2010</td>\n",
       "    </tr>\n",
       "    <tr>\n",
       "      <th>291</th>\n",
       "      <td>Egypt</td>\n",
       "      <td>Africa</td>\n",
       "      <td>13.817959</td>\n",
       "      <td>4.715985</td>\n",
       "      <td>1.031850</td>\n",
       "      <td>0.871293</td>\n",
       "      <td>2020</td>\n",
       "    </tr>\n",
       "    <tr>\n",
       "      <th>24</th>\n",
       "      <td>Bolivia</td>\n",
       "      <td>South America</td>\n",
       "      <td>13.909531</td>\n",
       "      <td>2.495451</td>\n",
       "      <td>1.024144</td>\n",
       "      <td>0.139762</td>\n",
       "      <td>2022</td>\n",
       "    </tr>\n",
       "    <tr>\n",
       "      <th>1605</th>\n",
       "      <td>Switzerland</td>\n",
       "      <td>Europe</td>\n",
       "      <td>10.628255</td>\n",
       "      <td>5.359957</td>\n",
       "      <td>1.011231</td>\n",
       "      <td>0.104360</td>\n",
       "      <td>1980</td>\n",
       "    </tr>\n",
       "  </tbody>\n",
       "</table>\n",
       "</div>"
      ],
      "text/plain": [
       "          Country      Continent  Area (km²)  Density (per km²)  Growth Rate  \\\n",
       "39           Chad         Africa   14.065492           2.694843     1.064199   \n",
       "896   South Korea           Asia   11.515033           6.250115     0.999400   \n",
       "291         Egypt         Africa   13.817959           4.715985     1.031850   \n",
       "24        Bolivia  South America   13.909531           2.495451     1.024144   \n",
       "1605  Switzerland         Europe   10.628255           5.359957     1.011231   \n",
       "\n",
       "      World Population Percentage  Year  \n",
       "39                       0.198851  2022  \n",
       "896                      0.500775  2010  \n",
       "291                      0.871293  2020  \n",
       "24                       0.139762  2022  \n",
       "1605                     0.104360  1980  "
      ]
     },
     "execution_count": 37,
     "metadata": {},
     "output_type": "execute_result"
    }
   ],
   "source": [
    "x_train.head()"
   ]
  },
  {
   "cell_type": "code",
   "execution_count": 38,
   "id": "778226d7-b15e-4ba9-a6ea-ab811b516cd5",
   "metadata": {},
   "outputs": [],
   "source": [
    "cat_col = ['Country','Continent']\n",
    "less_skewcol = ['Area (km²)','Density (per km²)','Growth Rate','Year']\n",
    "robust_scali = ['World Population Percentage']"
   ]
  },
  {
   "cell_type": "code",
   "execution_count": 39,
   "id": "4cacdbb8-5d6b-48ab-8915-0bc080f4b7f8",
   "metadata": {},
   "outputs": [
    {
     "data": {
      "text/html": [
       "<style>#sk-container-id-1 {\n",
       "  /* Definition of color scheme common for light and dark mode */\n",
       "  --sklearn-color-text: black;\n",
       "  --sklearn-color-line: gray;\n",
       "  /* Definition of color scheme for unfitted estimators */\n",
       "  --sklearn-color-unfitted-level-0: #fff5e6;\n",
       "  --sklearn-color-unfitted-level-1: #f6e4d2;\n",
       "  --sklearn-color-unfitted-level-2: #ffe0b3;\n",
       "  --sklearn-color-unfitted-level-3: chocolate;\n",
       "  /* Definition of color scheme for fitted estimators */\n",
       "  --sklearn-color-fitted-level-0: #f0f8ff;\n",
       "  --sklearn-color-fitted-level-1: #d4ebff;\n",
       "  --sklearn-color-fitted-level-2: #b3dbfd;\n",
       "  --sklearn-color-fitted-level-3: cornflowerblue;\n",
       "\n",
       "  /* Specific color for light theme */\n",
       "  --sklearn-color-text-on-default-background: var(--sg-text-color, var(--theme-code-foreground, var(--jp-content-font-color1, black)));\n",
       "  --sklearn-color-background: var(--sg-background-color, var(--theme-background, var(--jp-layout-color0, white)));\n",
       "  --sklearn-color-border-box: var(--sg-text-color, var(--theme-code-foreground, var(--jp-content-font-color1, black)));\n",
       "  --sklearn-color-icon: #696969;\n",
       "\n",
       "  @media (prefers-color-scheme: dark) {\n",
       "    /* Redefinition of color scheme for dark theme */\n",
       "    --sklearn-color-text-on-default-background: var(--sg-text-color, var(--theme-code-foreground, var(--jp-content-font-color1, white)));\n",
       "    --sklearn-color-background: var(--sg-background-color, var(--theme-background, var(--jp-layout-color0, #111)));\n",
       "    --sklearn-color-border-box: var(--sg-text-color, var(--theme-code-foreground, var(--jp-content-font-color1, white)));\n",
       "    --sklearn-color-icon: #878787;\n",
       "  }\n",
       "}\n",
       "\n",
       "#sk-container-id-1 {\n",
       "  color: var(--sklearn-color-text);\n",
       "}\n",
       "\n",
       "#sk-container-id-1 pre {\n",
       "  padding: 0;\n",
       "}\n",
       "\n",
       "#sk-container-id-1 input.sk-hidden--visually {\n",
       "  border: 0;\n",
       "  clip: rect(1px 1px 1px 1px);\n",
       "  clip: rect(1px, 1px, 1px, 1px);\n",
       "  height: 1px;\n",
       "  margin: -1px;\n",
       "  overflow: hidden;\n",
       "  padding: 0;\n",
       "  position: absolute;\n",
       "  width: 1px;\n",
       "}\n",
       "\n",
       "#sk-container-id-1 div.sk-dashed-wrapped {\n",
       "  border: 1px dashed var(--sklearn-color-line);\n",
       "  margin: 0 0.4em 0.5em 0.4em;\n",
       "  box-sizing: border-box;\n",
       "  padding-bottom: 0.4em;\n",
       "  background-color: var(--sklearn-color-background);\n",
       "}\n",
       "\n",
       "#sk-container-id-1 div.sk-container {\n",
       "  /* jupyter's `normalize.less` sets `[hidden] { display: none; }`\n",
       "     but bootstrap.min.css set `[hidden] { display: none !important; }`\n",
       "     so we also need the `!important` here to be able to override the\n",
       "     default hidden behavior on the sphinx rendered scikit-learn.org.\n",
       "     See: https://github.com/scikit-learn/scikit-learn/issues/21755 */\n",
       "  display: inline-block !important;\n",
       "  position: relative;\n",
       "}\n",
       "\n",
       "#sk-container-id-1 div.sk-text-repr-fallback {\n",
       "  display: none;\n",
       "}\n",
       "\n",
       "div.sk-parallel-item,\n",
       "div.sk-serial,\n",
       "div.sk-item {\n",
       "  /* draw centered vertical line to link estimators */\n",
       "  background-image: linear-gradient(var(--sklearn-color-text-on-default-background), var(--sklearn-color-text-on-default-background));\n",
       "  background-size: 2px 100%;\n",
       "  background-repeat: no-repeat;\n",
       "  background-position: center center;\n",
       "}\n",
       "\n",
       "/* Parallel-specific style estimator block */\n",
       "\n",
       "#sk-container-id-1 div.sk-parallel-item::after {\n",
       "  content: \"\";\n",
       "  width: 100%;\n",
       "  border-bottom: 2px solid var(--sklearn-color-text-on-default-background);\n",
       "  flex-grow: 1;\n",
       "}\n",
       "\n",
       "#sk-container-id-1 div.sk-parallel {\n",
       "  display: flex;\n",
       "  align-items: stretch;\n",
       "  justify-content: center;\n",
       "  background-color: var(--sklearn-color-background);\n",
       "  position: relative;\n",
       "}\n",
       "\n",
       "#sk-container-id-1 div.sk-parallel-item {\n",
       "  display: flex;\n",
       "  flex-direction: column;\n",
       "}\n",
       "\n",
       "#sk-container-id-1 div.sk-parallel-item:first-child::after {\n",
       "  align-self: flex-end;\n",
       "  width: 50%;\n",
       "}\n",
       "\n",
       "#sk-container-id-1 div.sk-parallel-item:last-child::after {\n",
       "  align-self: flex-start;\n",
       "  width: 50%;\n",
       "}\n",
       "\n",
       "#sk-container-id-1 div.sk-parallel-item:only-child::after {\n",
       "  width: 0;\n",
       "}\n",
       "\n",
       "/* Serial-specific style estimator block */\n",
       "\n",
       "#sk-container-id-1 div.sk-serial {\n",
       "  display: flex;\n",
       "  flex-direction: column;\n",
       "  align-items: center;\n",
       "  background-color: var(--sklearn-color-background);\n",
       "  padding-right: 1em;\n",
       "  padding-left: 1em;\n",
       "}\n",
       "\n",
       "\n",
       "/* Toggleable style: style used for estimator/Pipeline/ColumnTransformer box that is\n",
       "clickable and can be expanded/collapsed.\n",
       "- Pipeline and ColumnTransformer use this feature and define the default style\n",
       "- Estimators will overwrite some part of the style using the `sk-estimator` class\n",
       "*/\n",
       "\n",
       "/* Pipeline and ColumnTransformer style (default) */\n",
       "\n",
       "#sk-container-id-1 div.sk-toggleable {\n",
       "  /* Default theme specific background. It is overwritten whether we have a\n",
       "  specific estimator or a Pipeline/ColumnTransformer */\n",
       "  background-color: var(--sklearn-color-background);\n",
       "}\n",
       "\n",
       "/* Toggleable label */\n",
       "#sk-container-id-1 label.sk-toggleable__label {\n",
       "  cursor: pointer;\n",
       "  display: block;\n",
       "  width: 100%;\n",
       "  margin-bottom: 0;\n",
       "  padding: 0.5em;\n",
       "  box-sizing: border-box;\n",
       "  text-align: center;\n",
       "}\n",
       "\n",
       "#sk-container-id-1 label.sk-toggleable__label-arrow:before {\n",
       "  /* Arrow on the left of the label */\n",
       "  content: \"▸\";\n",
       "  float: left;\n",
       "  margin-right: 0.25em;\n",
       "  color: var(--sklearn-color-icon);\n",
       "}\n",
       "\n",
       "#sk-container-id-1 label.sk-toggleable__label-arrow:hover:before {\n",
       "  color: var(--sklearn-color-text);\n",
       "}\n",
       "\n",
       "/* Toggleable content - dropdown */\n",
       "\n",
       "#sk-container-id-1 div.sk-toggleable__content {\n",
       "  max-height: 0;\n",
       "  max-width: 0;\n",
       "  overflow: hidden;\n",
       "  text-align: left;\n",
       "  /* unfitted */\n",
       "  background-color: var(--sklearn-color-unfitted-level-0);\n",
       "}\n",
       "\n",
       "#sk-container-id-1 div.sk-toggleable__content.fitted {\n",
       "  /* fitted */\n",
       "  background-color: var(--sklearn-color-fitted-level-0);\n",
       "}\n",
       "\n",
       "#sk-container-id-1 div.sk-toggleable__content pre {\n",
       "  margin: 0.2em;\n",
       "  border-radius: 0.25em;\n",
       "  color: var(--sklearn-color-text);\n",
       "  /* unfitted */\n",
       "  background-color: var(--sklearn-color-unfitted-level-0);\n",
       "}\n",
       "\n",
       "#sk-container-id-1 div.sk-toggleable__content.fitted pre {\n",
       "  /* unfitted */\n",
       "  background-color: var(--sklearn-color-fitted-level-0);\n",
       "}\n",
       "\n",
       "#sk-container-id-1 input.sk-toggleable__control:checked~div.sk-toggleable__content {\n",
       "  /* Expand drop-down */\n",
       "  max-height: 200px;\n",
       "  max-width: 100%;\n",
       "  overflow: auto;\n",
       "}\n",
       "\n",
       "#sk-container-id-1 input.sk-toggleable__control:checked~label.sk-toggleable__label-arrow:before {\n",
       "  content: \"▾\";\n",
       "}\n",
       "\n",
       "/* Pipeline/ColumnTransformer-specific style */\n",
       "\n",
       "#sk-container-id-1 div.sk-label input.sk-toggleable__control:checked~label.sk-toggleable__label {\n",
       "  color: var(--sklearn-color-text);\n",
       "  background-color: var(--sklearn-color-unfitted-level-2);\n",
       "}\n",
       "\n",
       "#sk-container-id-1 div.sk-label.fitted input.sk-toggleable__control:checked~label.sk-toggleable__label {\n",
       "  background-color: var(--sklearn-color-fitted-level-2);\n",
       "}\n",
       "\n",
       "/* Estimator-specific style */\n",
       "\n",
       "/* Colorize estimator box */\n",
       "#sk-container-id-1 div.sk-estimator input.sk-toggleable__control:checked~label.sk-toggleable__label {\n",
       "  /* unfitted */\n",
       "  background-color: var(--sklearn-color-unfitted-level-2);\n",
       "}\n",
       "\n",
       "#sk-container-id-1 div.sk-estimator.fitted input.sk-toggleable__control:checked~label.sk-toggleable__label {\n",
       "  /* fitted */\n",
       "  background-color: var(--sklearn-color-fitted-level-2);\n",
       "}\n",
       "\n",
       "#sk-container-id-1 div.sk-label label.sk-toggleable__label,\n",
       "#sk-container-id-1 div.sk-label label {\n",
       "  /* The background is the default theme color */\n",
       "  color: var(--sklearn-color-text-on-default-background);\n",
       "}\n",
       "\n",
       "/* On hover, darken the color of the background */\n",
       "#sk-container-id-1 div.sk-label:hover label.sk-toggleable__label {\n",
       "  color: var(--sklearn-color-text);\n",
       "  background-color: var(--sklearn-color-unfitted-level-2);\n",
       "}\n",
       "\n",
       "/* Label box, darken color on hover, fitted */\n",
       "#sk-container-id-1 div.sk-label.fitted:hover label.sk-toggleable__label.fitted {\n",
       "  color: var(--sklearn-color-text);\n",
       "  background-color: var(--sklearn-color-fitted-level-2);\n",
       "}\n",
       "\n",
       "/* Estimator label */\n",
       "\n",
       "#sk-container-id-1 div.sk-label label {\n",
       "  font-family: monospace;\n",
       "  font-weight: bold;\n",
       "  display: inline-block;\n",
       "  line-height: 1.2em;\n",
       "}\n",
       "\n",
       "#sk-container-id-1 div.sk-label-container {\n",
       "  text-align: center;\n",
       "}\n",
       "\n",
       "/* Estimator-specific */\n",
       "#sk-container-id-1 div.sk-estimator {\n",
       "  font-family: monospace;\n",
       "  border: 1px dotted var(--sklearn-color-border-box);\n",
       "  border-radius: 0.25em;\n",
       "  box-sizing: border-box;\n",
       "  margin-bottom: 0.5em;\n",
       "  /* unfitted */\n",
       "  background-color: var(--sklearn-color-unfitted-level-0);\n",
       "}\n",
       "\n",
       "#sk-container-id-1 div.sk-estimator.fitted {\n",
       "  /* fitted */\n",
       "  background-color: var(--sklearn-color-fitted-level-0);\n",
       "}\n",
       "\n",
       "/* on hover */\n",
       "#sk-container-id-1 div.sk-estimator:hover {\n",
       "  /* unfitted */\n",
       "  background-color: var(--sklearn-color-unfitted-level-2);\n",
       "}\n",
       "\n",
       "#sk-container-id-1 div.sk-estimator.fitted:hover {\n",
       "  /* fitted */\n",
       "  background-color: var(--sklearn-color-fitted-level-2);\n",
       "}\n",
       "\n",
       "/* Specification for estimator info (e.g. \"i\" and \"?\") */\n",
       "\n",
       "/* Common style for \"i\" and \"?\" */\n",
       "\n",
       ".sk-estimator-doc-link,\n",
       "a:link.sk-estimator-doc-link,\n",
       "a:visited.sk-estimator-doc-link {\n",
       "  float: right;\n",
       "  font-size: smaller;\n",
       "  line-height: 1em;\n",
       "  font-family: monospace;\n",
       "  background-color: var(--sklearn-color-background);\n",
       "  border-radius: 1em;\n",
       "  height: 1em;\n",
       "  width: 1em;\n",
       "  text-decoration: none !important;\n",
       "  margin-left: 1ex;\n",
       "  /* unfitted */\n",
       "  border: var(--sklearn-color-unfitted-level-1) 1pt solid;\n",
       "  color: var(--sklearn-color-unfitted-level-1);\n",
       "}\n",
       "\n",
       ".sk-estimator-doc-link.fitted,\n",
       "a:link.sk-estimator-doc-link.fitted,\n",
       "a:visited.sk-estimator-doc-link.fitted {\n",
       "  /* fitted */\n",
       "  border: var(--sklearn-color-fitted-level-1) 1pt solid;\n",
       "  color: var(--sklearn-color-fitted-level-1);\n",
       "}\n",
       "\n",
       "/* On hover */\n",
       "div.sk-estimator:hover .sk-estimator-doc-link:hover,\n",
       ".sk-estimator-doc-link:hover,\n",
       "div.sk-label-container:hover .sk-estimator-doc-link:hover,\n",
       ".sk-estimator-doc-link:hover {\n",
       "  /* unfitted */\n",
       "  background-color: var(--sklearn-color-unfitted-level-3);\n",
       "  color: var(--sklearn-color-background);\n",
       "  text-decoration: none;\n",
       "}\n",
       "\n",
       "div.sk-estimator.fitted:hover .sk-estimator-doc-link.fitted:hover,\n",
       ".sk-estimator-doc-link.fitted:hover,\n",
       "div.sk-label-container:hover .sk-estimator-doc-link.fitted:hover,\n",
       ".sk-estimator-doc-link.fitted:hover {\n",
       "  /* fitted */\n",
       "  background-color: var(--sklearn-color-fitted-level-3);\n",
       "  color: var(--sklearn-color-background);\n",
       "  text-decoration: none;\n",
       "}\n",
       "\n",
       "/* Span, style for the box shown on hovering the info icon */\n",
       ".sk-estimator-doc-link span {\n",
       "  display: none;\n",
       "  z-index: 9999;\n",
       "  position: relative;\n",
       "  font-weight: normal;\n",
       "  right: .2ex;\n",
       "  padding: .5ex;\n",
       "  margin: .5ex;\n",
       "  width: min-content;\n",
       "  min-width: 20ex;\n",
       "  max-width: 50ex;\n",
       "  color: var(--sklearn-color-text);\n",
       "  box-shadow: 2pt 2pt 4pt #999;\n",
       "  /* unfitted */\n",
       "  background: var(--sklearn-color-unfitted-level-0);\n",
       "  border: .5pt solid var(--sklearn-color-unfitted-level-3);\n",
       "}\n",
       "\n",
       ".sk-estimator-doc-link.fitted span {\n",
       "  /* fitted */\n",
       "  background: var(--sklearn-color-fitted-level-0);\n",
       "  border: var(--sklearn-color-fitted-level-3);\n",
       "}\n",
       "\n",
       ".sk-estimator-doc-link:hover span {\n",
       "  display: block;\n",
       "}\n",
       "\n",
       "/* \"?\"-specific style due to the `<a>` HTML tag */\n",
       "\n",
       "#sk-container-id-1 a.estimator_doc_link {\n",
       "  float: right;\n",
       "  font-size: 1rem;\n",
       "  line-height: 1em;\n",
       "  font-family: monospace;\n",
       "  background-color: var(--sklearn-color-background);\n",
       "  border-radius: 1rem;\n",
       "  height: 1rem;\n",
       "  width: 1rem;\n",
       "  text-decoration: none;\n",
       "  /* unfitted */\n",
       "  color: var(--sklearn-color-unfitted-level-1);\n",
       "  border: var(--sklearn-color-unfitted-level-1) 1pt solid;\n",
       "}\n",
       "\n",
       "#sk-container-id-1 a.estimator_doc_link.fitted {\n",
       "  /* fitted */\n",
       "  border: var(--sklearn-color-fitted-level-1) 1pt solid;\n",
       "  color: var(--sklearn-color-fitted-level-1);\n",
       "}\n",
       "\n",
       "/* On hover */\n",
       "#sk-container-id-1 a.estimator_doc_link:hover {\n",
       "  /* unfitted */\n",
       "  background-color: var(--sklearn-color-unfitted-level-3);\n",
       "  color: var(--sklearn-color-background);\n",
       "  text-decoration: none;\n",
       "}\n",
       "\n",
       "#sk-container-id-1 a.estimator_doc_link.fitted:hover {\n",
       "  /* fitted */\n",
       "  background-color: var(--sklearn-color-fitted-level-3);\n",
       "}\n",
       "</style><div id=\"sk-container-id-1\" class=\"sk-top-container\"><div class=\"sk-text-repr-fallback\"><pre>Pipeline(steps=[(&#x27;preprocessing&#x27;,\n",
       "                 ColumnTransformer(remainder=&#x27;passthrough&#x27;,\n",
       "                                   transformers=[(&#x27;ohe&#x27;,\n",
       "                                                  OneHotEncoder(drop=&#x27;first&#x27;,\n",
       "                                                                handle_unknown=&#x27;ignore&#x27;,\n",
       "                                                                sparse_output=False),\n",
       "                                                  [&#x27;Country&#x27;, &#x27;Continent&#x27;]),\n",
       "                                                 (&#x27;rs&#x27;, RobustScaler(),\n",
       "                                                  [&#x27;World Population &#x27;\n",
       "                                                   &#x27;Percentage&#x27;]),\n",
       "                                                 (&#x27;ss&#x27;, StandardScaler(),\n",
       "                                                  [&#x27;Area (km²)&#x27;,\n",
       "                                                   &#x27;Density (per km²)&#x27;,\n",
       "                                                   &#x27;Growth Rate&#x27;, &#x27;Year&#x27;])])),\n",
       "                (&#x27;model&#x27;, LinearRegression())])</pre><b>In a Jupyter environment, please rerun this cell to show the HTML representation or trust the notebook. <br />On GitHub, the HTML representation is unable to render, please try loading this page with nbviewer.org.</b></div><div class=\"sk-container\" hidden><div class=\"sk-item sk-dashed-wrapped\"><div class=\"sk-label-container\"><div class=\"sk-label fitted sk-toggleable\"><input class=\"sk-toggleable__control sk-hidden--visually\" id=\"sk-estimator-id-1\" type=\"checkbox\" ><label for=\"sk-estimator-id-1\" class=\"sk-toggleable__label fitted sk-toggleable__label-arrow fitted\">&nbsp;&nbsp;Pipeline<a class=\"sk-estimator-doc-link fitted\" rel=\"noreferrer\" target=\"_blank\" href=\"https://scikit-learn.org/1.5/modules/generated/sklearn.pipeline.Pipeline.html\">?<span>Documentation for Pipeline</span></a><span class=\"sk-estimator-doc-link fitted\">i<span>Fitted</span></span></label><div class=\"sk-toggleable__content fitted\"><pre>Pipeline(steps=[(&#x27;preprocessing&#x27;,\n",
       "                 ColumnTransformer(remainder=&#x27;passthrough&#x27;,\n",
       "                                   transformers=[(&#x27;ohe&#x27;,\n",
       "                                                  OneHotEncoder(drop=&#x27;first&#x27;,\n",
       "                                                                handle_unknown=&#x27;ignore&#x27;,\n",
       "                                                                sparse_output=False),\n",
       "                                                  [&#x27;Country&#x27;, &#x27;Continent&#x27;]),\n",
       "                                                 (&#x27;rs&#x27;, RobustScaler(),\n",
       "                                                  [&#x27;World Population &#x27;\n",
       "                                                   &#x27;Percentage&#x27;]),\n",
       "                                                 (&#x27;ss&#x27;, StandardScaler(),\n",
       "                                                  [&#x27;Area (km²)&#x27;,\n",
       "                                                   &#x27;Density (per km²)&#x27;,\n",
       "                                                   &#x27;Growth Rate&#x27;, &#x27;Year&#x27;])])),\n",
       "                (&#x27;model&#x27;, LinearRegression())])</pre></div> </div></div><div class=\"sk-serial\"><div class=\"sk-item sk-dashed-wrapped\"><div class=\"sk-label-container\"><div class=\"sk-label fitted sk-toggleable\"><input class=\"sk-toggleable__control sk-hidden--visually\" id=\"sk-estimator-id-2\" type=\"checkbox\" ><label for=\"sk-estimator-id-2\" class=\"sk-toggleable__label fitted sk-toggleable__label-arrow fitted\">&nbsp;preprocessing: ColumnTransformer<a class=\"sk-estimator-doc-link fitted\" rel=\"noreferrer\" target=\"_blank\" href=\"https://scikit-learn.org/1.5/modules/generated/sklearn.compose.ColumnTransformer.html\">?<span>Documentation for preprocessing: ColumnTransformer</span></a></label><div class=\"sk-toggleable__content fitted\"><pre>ColumnTransformer(remainder=&#x27;passthrough&#x27;,\n",
       "                  transformers=[(&#x27;ohe&#x27;,\n",
       "                                 OneHotEncoder(drop=&#x27;first&#x27;,\n",
       "                                               handle_unknown=&#x27;ignore&#x27;,\n",
       "                                               sparse_output=False),\n",
       "                                 [&#x27;Country&#x27;, &#x27;Continent&#x27;]),\n",
       "                                (&#x27;rs&#x27;, RobustScaler(),\n",
       "                                 [&#x27;World Population Percentage&#x27;]),\n",
       "                                (&#x27;ss&#x27;, StandardScaler(),\n",
       "                                 [&#x27;Area (km²)&#x27;, &#x27;Density (per km²)&#x27;,\n",
       "                                  &#x27;Growth Rate&#x27;, &#x27;Year&#x27;])])</pre></div> </div></div><div class=\"sk-parallel\"><div class=\"sk-parallel-item\"><div class=\"sk-item\"><div class=\"sk-label-container\"><div class=\"sk-label fitted sk-toggleable\"><input class=\"sk-toggleable__control sk-hidden--visually\" id=\"sk-estimator-id-3\" type=\"checkbox\" ><label for=\"sk-estimator-id-3\" class=\"sk-toggleable__label fitted sk-toggleable__label-arrow fitted\">ohe</label><div class=\"sk-toggleable__content fitted\"><pre>[&#x27;Country&#x27;, &#x27;Continent&#x27;]</pre></div> </div></div><div class=\"sk-serial\"><div class=\"sk-item\"><div class=\"sk-estimator fitted sk-toggleable\"><input class=\"sk-toggleable__control sk-hidden--visually\" id=\"sk-estimator-id-4\" type=\"checkbox\" ><label for=\"sk-estimator-id-4\" class=\"sk-toggleable__label fitted sk-toggleable__label-arrow fitted\">&nbsp;OneHotEncoder<a class=\"sk-estimator-doc-link fitted\" rel=\"noreferrer\" target=\"_blank\" href=\"https://scikit-learn.org/1.5/modules/generated/sklearn.preprocessing.OneHotEncoder.html\">?<span>Documentation for OneHotEncoder</span></a></label><div class=\"sk-toggleable__content fitted\"><pre>OneHotEncoder(drop=&#x27;first&#x27;, handle_unknown=&#x27;ignore&#x27;, sparse_output=False)</pre></div> </div></div></div></div></div><div class=\"sk-parallel-item\"><div class=\"sk-item\"><div class=\"sk-label-container\"><div class=\"sk-label fitted sk-toggleable\"><input class=\"sk-toggleable__control sk-hidden--visually\" id=\"sk-estimator-id-5\" type=\"checkbox\" ><label for=\"sk-estimator-id-5\" class=\"sk-toggleable__label fitted sk-toggleable__label-arrow fitted\">rs</label><div class=\"sk-toggleable__content fitted\"><pre>[&#x27;World Population Percentage&#x27;]</pre></div> </div></div><div class=\"sk-serial\"><div class=\"sk-item\"><div class=\"sk-estimator fitted sk-toggleable\"><input class=\"sk-toggleable__control sk-hidden--visually\" id=\"sk-estimator-id-6\" type=\"checkbox\" ><label for=\"sk-estimator-id-6\" class=\"sk-toggleable__label fitted sk-toggleable__label-arrow fitted\">&nbsp;RobustScaler<a class=\"sk-estimator-doc-link fitted\" rel=\"noreferrer\" target=\"_blank\" href=\"https://scikit-learn.org/1.5/modules/generated/sklearn.preprocessing.RobustScaler.html\">?<span>Documentation for RobustScaler</span></a></label><div class=\"sk-toggleable__content fitted\"><pre>RobustScaler()</pre></div> </div></div></div></div></div><div class=\"sk-parallel-item\"><div class=\"sk-item\"><div class=\"sk-label-container\"><div class=\"sk-label fitted sk-toggleable\"><input class=\"sk-toggleable__control sk-hidden--visually\" id=\"sk-estimator-id-7\" type=\"checkbox\" ><label for=\"sk-estimator-id-7\" class=\"sk-toggleable__label fitted sk-toggleable__label-arrow fitted\">ss</label><div class=\"sk-toggleable__content fitted\"><pre>[&#x27;Area (km²)&#x27;, &#x27;Density (per km²)&#x27;, &#x27;Growth Rate&#x27;, &#x27;Year&#x27;]</pre></div> </div></div><div class=\"sk-serial\"><div class=\"sk-item\"><div class=\"sk-estimator fitted sk-toggleable\"><input class=\"sk-toggleable__control sk-hidden--visually\" id=\"sk-estimator-id-8\" type=\"checkbox\" ><label for=\"sk-estimator-id-8\" class=\"sk-toggleable__label fitted sk-toggleable__label-arrow fitted\">&nbsp;StandardScaler<a class=\"sk-estimator-doc-link fitted\" rel=\"noreferrer\" target=\"_blank\" href=\"https://scikit-learn.org/1.5/modules/generated/sklearn.preprocessing.StandardScaler.html\">?<span>Documentation for StandardScaler</span></a></label><div class=\"sk-toggleable__content fitted\"><pre>StandardScaler()</pre></div> </div></div></div></div></div><div class=\"sk-parallel-item\"><div class=\"sk-item\"><div class=\"sk-label-container\"><div class=\"sk-label fitted sk-toggleable\"><input class=\"sk-toggleable__control sk-hidden--visually\" id=\"sk-estimator-id-9\" type=\"checkbox\" ><label for=\"sk-estimator-id-9\" class=\"sk-toggleable__label fitted sk-toggleable__label-arrow fitted\">remainder</label><div class=\"sk-toggleable__content fitted\"><pre>[]</pre></div> </div></div><div class=\"sk-serial\"><div class=\"sk-item\"><div class=\"sk-estimator fitted sk-toggleable\"><input class=\"sk-toggleable__control sk-hidden--visually\" id=\"sk-estimator-id-10\" type=\"checkbox\" ><label for=\"sk-estimator-id-10\" class=\"sk-toggleable__label fitted sk-toggleable__label-arrow fitted\">passthrough</label><div class=\"sk-toggleable__content fitted\"><pre>passthrough</pre></div> </div></div></div></div></div></div></div><div class=\"sk-item\"><div class=\"sk-estimator fitted sk-toggleable\"><input class=\"sk-toggleable__control sk-hidden--visually\" id=\"sk-estimator-id-11\" type=\"checkbox\" ><label for=\"sk-estimator-id-11\" class=\"sk-toggleable__label fitted sk-toggleable__label-arrow fitted\">&nbsp;LinearRegression<a class=\"sk-estimator-doc-link fitted\" rel=\"noreferrer\" target=\"_blank\" href=\"https://scikit-learn.org/1.5/modules/generated/sklearn.linear_model.LinearRegression.html\">?<span>Documentation for LinearRegression</span></a></label><div class=\"sk-toggleable__content fitted\"><pre>LinearRegression()</pre></div> </div></div></div></div></div></div>"
      ],
      "text/plain": [
       "Pipeline(steps=[('preprocessing',\n",
       "                 ColumnTransformer(remainder='passthrough',\n",
       "                                   transformers=[('ohe',\n",
       "                                                  OneHotEncoder(drop='first',\n",
       "                                                                handle_unknown='ignore',\n",
       "                                                                sparse_output=False),\n",
       "                                                  ['Country', 'Continent']),\n",
       "                                                 ('rs', RobustScaler(),\n",
       "                                                  ['World Population '\n",
       "                                                   'Percentage']),\n",
       "                                                 ('ss', StandardScaler(),\n",
       "                                                  ['Area (km²)',\n",
       "                                                   'Density (per km²)',\n",
       "                                                   'Growth Rate', 'Year'])])),\n",
       "                ('model', LinearRegression())])"
      ]
     },
     "execution_count": 39,
     "metadata": {},
     "output_type": "execute_result"
    }
   ],
   "source": [
    "step1 = ColumnTransformer(transformers = [\n",
    "    ('ohe',OneHotEncoder(drop='first',handle_unknown='ignore',sparse_output=False),cat_col),\n",
    "    ('rs',RobustScaler(),robust_scali),\n",
    "    ('ss',StandardScaler(),less_skewcol)\n",
    "],remainder='passthrough')\n",
    "step2 = LinearRegression()\n",
    "\n",
    "pipe = Pipeline([('preprocessing',step1),\n",
    "                ('model',step2)])\n",
    "\n",
    "pipe.fit(x_train,y_train)"
   ]
  },
  {
   "cell_type": "code",
   "execution_count": 40,
   "id": "beda923c-e3d4-4d01-8004-597a9a9cf336",
   "metadata": {},
   "outputs": [],
   "source": [
    "y_pred = pipe.predict(x_test)"
   ]
  },
  {
   "cell_type": "code",
   "execution_count": 41,
   "id": "df1826b6-39ca-46f7-a6d3-62ab1f14928f",
   "metadata": {},
   "outputs": [
    {
     "data": {
      "text/plain": [
       "0.9897626512512223"
      ]
     },
     "execution_count": 41,
     "metadata": {},
     "output_type": "execute_result"
    }
   ],
   "source": [
    "r2_score(y_test,y_pred)"
   ]
  },
  {
   "cell_type": "code",
   "execution_count": 42,
   "id": "c49bafb8-fd39-4b46-a0cd-cb9b22c38ddd",
   "metadata": {},
   "outputs": [
    {
     "data": {
      "text/plain": [
       "0.07651040341660326"
      ]
     },
     "execution_count": 42,
     "metadata": {},
     "output_type": "execute_result"
    }
   ],
   "source": [
    "mean_squared_error(y_test,y_pred)"
   ]
  },
  {
   "cell_type": "code",
   "execution_count": 48,
   "id": "53f035ce-9ca5-42a8-8362-7165680089d7",
   "metadata": {},
   "outputs": [],
   "source": [
    "original = np.expm1(y_pred)"
   ]
  },
  {
   "cell_type": "code",
   "execution_count": null,
   "id": "49518cd6-0e3f-4f58-ba5a-202f37ff7edf",
   "metadata": {},
   "outputs": [],
   "source": []
  }
 ],
 "metadata": {
  "kernelspec": {
   "display_name": "Python 3 (ipykernel)",
   "language": "python",
   "name": "python3"
  },
  "language_info": {
   "codemirror_mode": {
    "name": "ipython",
    "version": 3
   },
   "file_extension": ".py",
   "mimetype": "text/x-python",
   "name": "python",
   "nbconvert_exporter": "python",
   "pygments_lexer": "ipython3",
   "version": "3.12.7"
  }
 },
 "nbformat": 4,
 "nbformat_minor": 5
}
